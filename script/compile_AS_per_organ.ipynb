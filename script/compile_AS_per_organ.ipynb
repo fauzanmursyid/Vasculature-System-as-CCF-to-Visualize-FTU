{
 "cells": [
  {
   "cell_type": "markdown",
   "metadata": {},
   "source": [
    "# Read data"
   ]
  },
  {
   "cell_type": "code",
   "execution_count": 1,
   "metadata": {},
   "outputs": [],
   "source": [
    "import pandas as pd"
   ]
  },
  {
   "cell_type": "code",
   "execution_count": 2,
   "metadata": {},
   "outputs": [],
   "source": [
    "df_vasculature = pd.read_excel (r'Vasculature Expanded ASCT+B Table.xlsx', sheet_name='DataTable')"
   ]
  },
  {
   "cell_type": "code",
   "execution_count": 3,
   "metadata": {},
   "outputs": [],
   "source": [
    "mapping_table = pd.DataFrame(columns=['organ','#AS','#AS also present in vasculature table\"'])"
   ]
  },
  {
   "cell_type": "markdown",
   "metadata": {},
   "source": [
    "# 1. Bone Marrow_Blood_v1"
   ]
  },
  {
   "cell_type": "code",
   "execution_count": 4,
   "metadata": {},
   "outputs": [],
   "source": [
    "excel = 'ASCT+B_Tables_Standard_Format_3-24-2021.xlsx'\n",
    "#df_asctb = pd.read_excel (excel, sheet_name=17, header = 10)\n",
    "organ = 'Bone Marrow_Blood_v1'\n",
    "df_asctb = pd.read_excel (excel, sheet_name=organ, header = 10)"
   ]
  },
  {
   "cell_type": "code",
   "execution_count": 5,
   "metadata": {},
   "outputs": [
    {
     "name": "stdout",
     "output_type": "stream",
     "text": [
      "3\n",
      "{'UBERON:0002371', 'UBERON:0000178'}\n"
     ]
    }
   ],
   "source": [
    "# Number of unique AS in ASCT+B table\n",
    "set_AS = set(df_asctb[\"AS/1/ID\"])\n",
    "unique_AS = len(set_AS)+1\n",
    "print(unique_AS)\n",
    "print(set_AS)"
   ]
  },
  {
   "cell_type": "code",
   "execution_count": 6,
   "metadata": {},
   "outputs": [],
   "source": [
    "match = []\n",
    "for uberon in df_vasculature.UBERON:\n",
    "    for asid in set_AS:\n",
    "        if uberon == asid:\n",
    "            match.append(uberon)       \n",
    "set_match = set(match)    \n",
    "match = len(set_match)"
   ]
  },
  {
   "cell_type": "code",
   "execution_count": 8,
   "metadata": {},
   "outputs": [],
   "source": [
    "mapping_table.loc[len(mapping_table.index)] = ['Bone Marrow & Blood/Pelvis', unique_AS, match] "
   ]
  },
  {
   "cell_type": "markdown",
   "metadata": {},
   "source": [
    "# 2. Brain_v1"
   ]
  },
  {
   "cell_type": "code",
   "execution_count": 8,
   "metadata": {},
   "outputs": [],
   "source": [
    "organ = 'Brain_v1'\n",
    "df_asctb = pd.read_excel (excel, sheet_name=organ, header = 10)"
   ]
  },
  {
   "cell_type": "code",
   "execution_count": 9,
   "metadata": {},
   "outputs": [
    {
     "name": "stdout",
     "output_type": "stream",
     "text": [
      "66\n",
      "{'UBERON:0002651', 'UBERON:0001944', 'UBERON:0002286', 'UBERON:0002163', 'UBERON:0002702', 'UBERON:0001872', 'UBERON:0002686', 'UBERON:0016554', 'UBERON:0002570', 'UBERON:0007228', 'UBERON:0004720', 'UBERON:0002998', 'UBERON:0004725', 'UBERON:0002285', 'UBERON:0002655', 'UBERON:0002688', 'UBERON:0001871', 'UBERON:0019264', 'UBERON:0000988', 'UBERON:0001943', 'UBERON:0002661', 'UBERON:0002028', 'UBERON:0001717', 'UBERON:0004086', 'UBERON:0002703', 'UBERON:0019279', 'UBERON:0022398', 'UBERON:0002291', 'UBERON:0007634', 'UBERON:0024151', 'UBERON:0004671', 'UBERON:0002021', 'UBERON:0002150', 'UBERON:0019263', 'UBERON:0019258', 'UBERON:0002707', 'UBERON:0002037', 'UBERON:0002593', 'UBERON:0006091', 'UBERON:0002980', 'UBERON:0019278', 'UBERON:0003023', 'UBERON:0001896', 'UBERON:0002022', 'UBERON:0000956', 'UBERON:0002151', 'UBERON:0002624', 'UBERON:0019267', 'UBERON:0019280', 'UBERON:0002289', 'UBERON:0002600', 'UBERON:0002947', 'UBERON:0002422', 'UBERON:0019261', 'UBERON:0001384', 'UBERON:0002629', 'UBERON:0002152', 'UBERON:0000955', 'UBERON:0003040', 'UBERON:0016525', 'UBERON:0002564', 'UBERON:0001890', 'UBERON:0004672', 'UBERON:0001891', 'UBERON:0035932'}\n"
     ]
    }
   ],
   "source": [
    "set_AS = set(list(df_asctb[\"AS/1/ID\"])+list(df_asctb[\"AS/2/ID\"])+list(df_asctb[\"AS/3/ID\"])+list(df_asctb[\"AS/4/ID\"])+list(df_asctb[\"AS/5/ID\"])+list(df_asctb[\"AS/6/ID\"])+list(df_asctb[\"AS/7/ID\"]))\n",
    "set_AS = {x for x in set_AS if x==x}\n",
    "set_AS.remove('no good match')\n",
    "unique_AS = len(set_AS)+1\n",
    "print(unique_AS)\n",
    "print(set_AS)"
   ]
  },
  {
   "cell_type": "code",
   "execution_count": 10,
   "metadata": {},
   "outputs": [],
   "source": [
    "match = []\n",
    "for uberon in df_vasculature.UBERON:\n",
    "    for asid in set_AS:\n",
    "        if uberon == asid:\n",
    "            match.append(uberon)\n",
    "set_match = set(match)    \n",
    "match = len(set_match)"
   ]
  },
  {
   "cell_type": "code",
   "execution_count": 11,
   "metadata": {},
   "outputs": [],
   "source": [
    "mapping_table.loc[len(mapping_table.index)] = ['Brain', unique_AS, match] "
   ]
  },
  {
   "cell_type": "markdown",
   "metadata": {},
   "source": [
    "# 3. Heart_v1"
   ]
  },
  {
   "cell_type": "code",
   "execution_count": 9,
   "metadata": {},
   "outputs": [],
   "source": [
    "organ = 'Heart_v1'\n",
    "df_asctb = pd.read_excel (excel, sheet_name=organ, header = 10)"
   ]
  },
  {
   "cell_type": "code",
   "execution_count": 10,
   "metadata": {},
   "outputs": [
    {
     "name": "stdout",
     "output_type": "stream",
     "text": [
      "50\n",
      "{'FMAID:49911', 'FMAID:4712', 'UBERON:0002080', 'UBERON:0006566', 'FMAID:3823', 'FMAID:83531', 'UBERON:0002094', 'FMAID:3851', 'FMAID:76767', 'FMAID:49916', 'FMAID:3860', 'FMAID:83539', 'UBERON:0002353', 'UBERON:0002351', 'FMAID:3902', 'UBERON:0006567', 'UBERON:0002078', 'UBERON:0002134', 'FMAID:9535', 'UBERON:0009687', 'FMAID:3835', 'UBERON:0002348', 'UBERON:0002049', 'UBERON:0002146', 'UBERON:0035422', 'UBERON:0001979', 'FMAID:3840', 'FMAID:3862', 'UBERON:0000946', 'FMAID:4708', 'UBERON:0002137', 'UBERON:0035374', 'UBERON:0002352', 'UBERON:0002135', 'UBERON:0000948', 'UBERON:0001625', 'UBERON:0001982', 'UBERON:0002079', 'FMAID:4715', 'FMAID:15736', 'UBERON:0011820', 'FMAID:3818', 'FMAID:49913', 'UBERON:0005438', 'FMAID:49914', 'FMAID:83532', 'FMAID:7272', 'UBERON:0006958', 'UBERON:0002084'}\n"
     ]
    }
   ],
   "source": [
    "set_AS = set(list(df_asctb[\"AS/1/ID\"])+list(df_asctb[\"AS/2/ID\"])+list(df_asctb[\"AS/3/ID\"]))\n",
    "set_AS = {x for x in set_AS if x==x}\n",
    "unique_AS = len(set_AS)+1\n",
    "print(unique_AS)\n",
    "print(set_AS)"
   ]
  },
  {
   "cell_type": "code",
   "execution_count": 11,
   "metadata": {},
   "outputs": [],
   "source": [
    "match = []\n",
    "for uberon in df_vasculature.UBERON:\n",
    "    for asid in set_AS:\n",
    "        if uberon == asid:\n",
    "            match.append(uberon)   \n",
    "    \n",
    "set_match = set(match)    \n",
    "match = len(set_match)"
   ]
  },
  {
   "cell_type": "code",
   "execution_count": 15,
   "metadata": {},
   "outputs": [],
   "source": [
    "mapping_table.loc[len(mapping_table.index)] = ['Heart', unique_AS, match] "
   ]
  },
  {
   "cell_type": "code",
   "execution_count": 12,
   "metadata": {},
   "outputs": [
    {
     "data": {
      "text/plain": [
       "{'UBERON:0001625',\n",
       " 'UBERON:0002078',\n",
       " 'UBERON:0002079',\n",
       " 'UBERON:0002080',\n",
       " 'UBERON:0002084',\n",
       " 'UBERON:0005438',\n",
       " 'UBERON:0006958',\n",
       " 'UBERON:0009687',\n",
       " 'UBERON:0035374'}"
      ]
     },
     "execution_count": 12,
     "metadata": {},
     "output_type": "execute_result"
    }
   ],
   "source": [
    "set_match"
   ]
  },
  {
   "cell_type": "code",
   "execution_count": 13,
   "metadata": {},
   "outputs": [
    {
     "name": "stdout",
     "output_type": "stream",
     "text": [
      "                      AS              ID\n",
      "0            left atrium  UBERON:0002079\n",
      "1         left ventricle  UBERON:0002084\n",
      "2  right coronary artery  UBERON:0001625\n",
      "3           right atrium  UBERON:0002078\n",
      "4         coronary sinus  UBERON:0005438\n",
      "5     great cardiac vein  UBERON:0006958\n",
      "6    middle cardiac vein  UBERON:0009687\n",
      "7     small cardiac vein  UBERON:0035374\n",
      "8        right ventricle  UBERON:0002080\n"
     ]
    }
   ],
   "source": [
    "matching_AS = []\n",
    "matching_AS = pd.DataFrame(columns=['AS','ID'])\n",
    "for i in df_vasculature.index:\n",
    "    if df_vasculature['UBERON'][i] in set_match:\n",
    "        matching_AS.loc[len(matching_AS.index)] = [df_vasculature['Vessel'][i],df_vasculature['UBERON'][i]] \n",
    "print(matching_AS)"
   ]
  },
  {
   "cell_type": "code",
   "execution_count": 14,
   "metadata": {},
   "outputs": [
    {
     "data": {
      "text/html": [
       "<div>\n",
       "<style scoped>\n",
       "    .dataframe tbody tr th:only-of-type {\n",
       "        vertical-align: middle;\n",
       "    }\n",
       "\n",
       "    .dataframe tbody tr th {\n",
       "        vertical-align: top;\n",
       "    }\n",
       "\n",
       "    .dataframe thead th {\n",
       "        text-align: right;\n",
       "    }\n",
       "</style>\n",
       "<table border=\"1\" class=\"dataframe\">\n",
       "  <thead>\n",
       "    <tr style=\"text-align: right;\">\n",
       "      <th></th>\n",
       "      <th>AS</th>\n",
       "      <th>ID</th>\n",
       "    </tr>\n",
       "  </thead>\n",
       "  <tbody>\n",
       "    <tr>\n",
       "      <th>0</th>\n",
       "      <td>left atrium</td>\n",
       "      <td>UBERON:0002079</td>\n",
       "    </tr>\n",
       "    <tr>\n",
       "      <th>1</th>\n",
       "      <td>left ventricle</td>\n",
       "      <td>UBERON:0002084</td>\n",
       "    </tr>\n",
       "    <tr>\n",
       "      <th>2</th>\n",
       "      <td>right coronary artery</td>\n",
       "      <td>UBERON:0001625</td>\n",
       "    </tr>\n",
       "    <tr>\n",
       "      <th>3</th>\n",
       "      <td>right atrium</td>\n",
       "      <td>UBERON:0002078</td>\n",
       "    </tr>\n",
       "    <tr>\n",
       "      <th>4</th>\n",
       "      <td>coronary sinus</td>\n",
       "      <td>UBERON:0005438</td>\n",
       "    </tr>\n",
       "    <tr>\n",
       "      <th>5</th>\n",
       "      <td>great cardiac vein</td>\n",
       "      <td>UBERON:0006958</td>\n",
       "    </tr>\n",
       "    <tr>\n",
       "      <th>6</th>\n",
       "      <td>middle cardiac vein</td>\n",
       "      <td>UBERON:0009687</td>\n",
       "    </tr>\n",
       "    <tr>\n",
       "      <th>7</th>\n",
       "      <td>small cardiac vein</td>\n",
       "      <td>UBERON:0035374</td>\n",
       "    </tr>\n",
       "    <tr>\n",
       "      <th>8</th>\n",
       "      <td>right ventricle</td>\n",
       "      <td>UBERON:0002080</td>\n",
       "    </tr>\n",
       "  </tbody>\n",
       "</table>\n",
       "</div>"
      ],
      "text/plain": [
       "                      AS              ID\n",
       "0            left atrium  UBERON:0002079\n",
       "1         left ventricle  UBERON:0002084\n",
       "2  right coronary artery  UBERON:0001625\n",
       "3           right atrium  UBERON:0002078\n",
       "4         coronary sinus  UBERON:0005438\n",
       "5     great cardiac vein  UBERON:0006958\n",
       "6    middle cardiac vein  UBERON:0009687\n",
       "7     small cardiac vein  UBERON:0035374\n",
       "8        right ventricle  UBERON:0002080"
      ]
     },
     "execution_count": 14,
     "metadata": {},
     "output_type": "execute_result"
    }
   ],
   "source": [
    "matching_AS"
   ]
  },
  {
   "cell_type": "code",
   "execution_count": 14,
   "metadata": {},
   "outputs": [
    {
     "name": "stdout",
     "output_type": "stream",
     "text": [
      "right coronary artery\n"
     ]
    }
   ],
   "source": [
    "for i in df_vasculature.index:\n",
    "    if df_vasculature['UBERON'][i] == 'UBERON:0001625':\n",
    "        print(df_vasculature['Vessel'][i])"
   ]
  },
  {
   "cell_type": "code",
   "execution_count": 12,
   "metadata": {},
   "outputs": [
    {
     "data": {
      "text/html": [
       "<div>\n",
       "<style scoped>\n",
       "    .dataframe tbody tr th:only-of-type {\n",
       "        vertical-align: middle;\n",
       "    }\n",
       "\n",
       "    .dataframe tbody tr th {\n",
       "        vertical-align: top;\n",
       "    }\n",
       "\n",
       "    .dataframe thead th {\n",
       "        text-align: right;\n",
       "    }\n",
       "</style>\n",
       "<table border=\"1\" class=\"dataframe\">\n",
       "  <thead>\n",
       "    <tr style=\"text-align: right;\">\n",
       "      <th></th>\n",
       "      <th>BranchesFrom</th>\n",
       "      <th>Vessel</th>\n",
       "      <th>VesselType</th>\n",
       "      <th>BodyPart</th>\n",
       "      <th>Sex</th>\n",
       "      <th>Anastomoses</th>\n",
       "      <th>ForBranchesSee</th>\n",
       "      <th>MergedVessel</th>\n",
       "      <th>CoordX</th>\n",
       "      <th>CoordY</th>\n",
       "      <th>...</th>\n",
       "      <th>BiomarkersID</th>\n",
       "      <th>ReferenceURL</th>\n",
       "      <th>Reference</th>\n",
       "      <th>ReferenceDOI</th>\n",
       "      <th>UBERON</th>\n",
       "      <th>FMA</th>\n",
       "      <th>BodyPartUberon</th>\n",
       "      <th>UBERONLabel</th>\n",
       "      <th>FMALabel</th>\n",
       "      <th>PathFromHeart</th>\n",
       "    </tr>\n",
       "  </thead>\n",
       "  <tbody>\n",
       "    <tr>\n",
       "      <th>0</th>\n",
       "      <td>left atrium</td>\n",
       "      <td>left atrium</td>\n",
       "      <td>heart chamber</td>\n",
       "      <td>heart chamber</td>\n",
       "      <td>NaN</td>\n",
       "      <td>NaN</td>\n",
       "      <td>NaN</td>\n",
       "      <td>0</td>\n",
       "      <td>10.0</td>\n",
       "      <td>10.0</td>\n",
       "      <td>...</td>\n",
       "      <td>HGNC:8823</td>\n",
       "      <td>https://en.wikipedia.org/wiki/Heart</td>\n",
       "      <td>https://en.wikipedia.org/wiki/Heart</td>\n",
       "      <td>NaN</td>\n",
       "      <td>UBERON:0002079</td>\n",
       "      <td>fma7097</td>\n",
       "      <td>UBERON:0004151</td>\n",
       "      <td>left cardiac atrium</td>\n",
       "      <td>Left atrium</td>\n",
       "      <td>left atrium</td>\n",
       "    </tr>\n",
       "    <tr>\n",
       "      <th>1</th>\n",
       "      <td>left atrium</td>\n",
       "      <td>left inferior pulmonary vein</td>\n",
       "      <td>vein</td>\n",
       "      <td>lung</td>\n",
       "      <td>NaN</td>\n",
       "      <td>NaN</td>\n",
       "      <td>NaN</td>\n",
       "      <td>0</td>\n",
       "      <td>7.0</td>\n",
       "      <td>50.0</td>\n",
       "      <td>...</td>\n",
       "      <td>HGNC:8823</td>\n",
       "      <td>https://en.wikipedia.org/wiki/Pulmonary_vein</td>\n",
       "      <td>https://en.wikipedia.org/wiki/Pulmonary_vein</td>\n",
       "      <td>NaN</td>\n",
       "      <td>NaN</td>\n",
       "      <td>fma49913</td>\n",
       "      <td>UBERON:0002048</td>\n",
       "      <td>NaN</td>\n",
       "      <td>Left inferior pulmonary vein</td>\n",
       "      <td>left atrium;left inferior pulmonary vein</td>\n",
       "    </tr>\n",
       "    <tr>\n",
       "      <th>2</th>\n",
       "      <td>left atrium</td>\n",
       "      <td>left superior pulmonary vein</td>\n",
       "      <td>vein</td>\n",
       "      <td>lung</td>\n",
       "      <td>NaN</td>\n",
       "      <td>NaN</td>\n",
       "      <td>NaN</td>\n",
       "      <td>0</td>\n",
       "      <td>10.0</td>\n",
       "      <td>60.0</td>\n",
       "      <td>...</td>\n",
       "      <td>HGNC:8823</td>\n",
       "      <td>https://en.wikipedia.org/wiki/Pulmonary_vein</td>\n",
       "      <td>https://en.wikipedia.org/wiki/Pulmonary_vein</td>\n",
       "      <td>NaN</td>\n",
       "      <td>NaN</td>\n",
       "      <td>fma49916</td>\n",
       "      <td>UBERON:0002048</td>\n",
       "      <td>NaN</td>\n",
       "      <td>Left superior pulmonary vein</td>\n",
       "      <td>left atrium;left superior pulmonary vein</td>\n",
       "    </tr>\n",
       "    <tr>\n",
       "      <th>3</th>\n",
       "      <td>left atrium</td>\n",
       "      <td>right inferior pulmonary vein</td>\n",
       "      <td>vein</td>\n",
       "      <td>lung</td>\n",
       "      <td>NaN</td>\n",
       "      <td>NaN</td>\n",
       "      <td>NaN</td>\n",
       "      <td>0</td>\n",
       "      <td>0.0</td>\n",
       "      <td>30.0</td>\n",
       "      <td>...</td>\n",
       "      <td>HGNC:8823</td>\n",
       "      <td>https://en.wikipedia.org/wiki/Pulmonary_vein</td>\n",
       "      <td>https://en.wikipedia.org/wiki/Pulmonary_vein</td>\n",
       "      <td>NaN</td>\n",
       "      <td>NaN</td>\n",
       "      <td>fma49911</td>\n",
       "      <td>UBERON:0002048</td>\n",
       "      <td>NaN</td>\n",
       "      <td>Right inferior pulmonary vein</td>\n",
       "      <td>left atrium;right inferior pulmonary vein</td>\n",
       "    </tr>\n",
       "    <tr>\n",
       "      <th>4</th>\n",
       "      <td>left atrium</td>\n",
       "      <td>right superior pulmonary vein</td>\n",
       "      <td>vein</td>\n",
       "      <td>lung</td>\n",
       "      <td>NaN</td>\n",
       "      <td>NaN</td>\n",
       "      <td>NaN</td>\n",
       "      <td>0</td>\n",
       "      <td>3.0</td>\n",
       "      <td>40.0</td>\n",
       "      <td>...</td>\n",
       "      <td>HGNC:8823</td>\n",
       "      <td>https://en.wikipedia.org/wiki/Pulmonary_vein</td>\n",
       "      <td>https://en.wikipedia.org/wiki/Pulmonary_vein</td>\n",
       "      <td>NaN</td>\n",
       "      <td>NaN</td>\n",
       "      <td>fma49914</td>\n",
       "      <td>UBERON:0002048</td>\n",
       "      <td>NaN</td>\n",
       "      <td>Right superior pulmonary vein</td>\n",
       "      <td>left atrium;right superior pulmonary vein</td>\n",
       "    </tr>\n",
       "  </tbody>\n",
       "</table>\n",
       "<p>5 rows × 26 columns</p>\n",
       "</div>"
      ],
      "text/plain": [
       "  BranchesFrom                         Vessel     VesselType       BodyPart  \\\n",
       "0  left atrium                    left atrium  heart chamber  heart chamber   \n",
       "1  left atrium   left inferior pulmonary vein           vein           lung   \n",
       "2  left atrium   left superior pulmonary vein           vein           lung   \n",
       "3  left atrium  right inferior pulmonary vein           vein           lung   \n",
       "4  left atrium  right superior pulmonary vein           vein           lung   \n",
       "\n",
       "   Sex Anastomoses ForBranchesSee  MergedVessel  CoordX  CoordY  ...  \\\n",
       "0  NaN         NaN            NaN             0    10.0    10.0  ...   \n",
       "1  NaN         NaN            NaN             0     7.0    50.0  ...   \n",
       "2  NaN         NaN            NaN             0    10.0    60.0  ...   \n",
       "3  NaN         NaN            NaN             0     0.0    30.0  ...   \n",
       "4  NaN         NaN            NaN             0     3.0    40.0  ...   \n",
       "\n",
       "   BiomarkersID                                  ReferenceURL  \\\n",
       "0     HGNC:8823           https://en.wikipedia.org/wiki/Heart   \n",
       "1     HGNC:8823  https://en.wikipedia.org/wiki/Pulmonary_vein   \n",
       "2     HGNC:8823  https://en.wikipedia.org/wiki/Pulmonary_vein   \n",
       "3     HGNC:8823  https://en.wikipedia.org/wiki/Pulmonary_vein   \n",
       "4     HGNC:8823  https://en.wikipedia.org/wiki/Pulmonary_vein   \n",
       "\n",
       "                                      Reference ReferenceDOI          UBERON  \\\n",
       "0           https://en.wikipedia.org/wiki/Heart          NaN  UBERON:0002079   \n",
       "1  https://en.wikipedia.org/wiki/Pulmonary_vein          NaN             NaN   \n",
       "2  https://en.wikipedia.org/wiki/Pulmonary_vein          NaN             NaN   \n",
       "3  https://en.wikipedia.org/wiki/Pulmonary_vein          NaN             NaN   \n",
       "4  https://en.wikipedia.org/wiki/Pulmonary_vein          NaN             NaN   \n",
       "\n",
       "        FMA  BodyPartUberon          UBERONLabel  \\\n",
       "0   fma7097  UBERON:0004151  left cardiac atrium   \n",
       "1  fma49913  UBERON:0002048                  NaN   \n",
       "2  fma49916  UBERON:0002048                  NaN   \n",
       "3  fma49911  UBERON:0002048                  NaN   \n",
       "4  fma49914  UBERON:0002048                  NaN   \n",
       "\n",
       "                        FMALabel                              PathFromHeart  \n",
       "0                    Left atrium                                left atrium  \n",
       "1   Left inferior pulmonary vein   left atrium;left inferior pulmonary vein  \n",
       "2   Left superior pulmonary vein   left atrium;left superior pulmonary vein  \n",
       "3  Right inferior pulmonary vein  left atrium;right inferior pulmonary vein  \n",
       "4  Right superior pulmonary vein  left atrium;right superior pulmonary vein  \n",
       "\n",
       "[5 rows x 26 columns]"
      ]
     },
     "execution_count": 12,
     "metadata": {},
     "output_type": "execute_result"
    }
   ],
   "source": [
    "df_vasculature.head()"
   ]
  },
  {
   "cell_type": "markdown",
   "metadata": {},
   "source": [
    "# 4. Large_Intestine_v1"
   ]
  },
  {
   "cell_type": "code",
   "execution_count": 16,
   "metadata": {},
   "outputs": [],
   "source": [
    "organ = 'Large_Intestine_v1'\n",
    "df_asctb = pd.read_excel (excel, sheet_name=organ, header = 10)"
   ]
  },
  {
   "cell_type": "code",
   "execution_count": 17,
   "metadata": {},
   "outputs": [
    {
     "name": "stdout",
     "output_type": "stream",
     "text": [
      "49\n",
      "{'UBERON:0001003', 'UBERON:0001821', 'UBERON:0002073', 'UBERON:0001159', 'UBERON:0000159', 'UBERON:0001962', 'UBERON:0001961', 'UBERON:0015716', 'UBERON:0003331', 'UBERON:0000059', 'UBERON:0000317', 'UBERON:0012498', 'UBERON:0003335', 'UBERON:0000569', 'UBERON:0012375', 'UBERON:0004760', 'UBERON:0004989', 'UBERON:0000397', 'UBERON:0002439', 'UBERON:0000055', 'UBERON:0001367', 'UBERON:0002384', 'UBERON:0001245', 'UBERON:0008974', 'UBERON:0003342', 'UBERON:0005304', 'UBERON:0022276', 'UBERON:0012419', 'UBERON_0000423', 'UBERON:0013485', 'UBERON:0001153', 'UBERON:0011184', 'UBERON:0022277', 'UBERON:0006134', 'UBERON:0001157', 'UBERON:0001154', 'UBERON:0012399', 'UBERON:0001052', 'UBERON:0004928', 'UBERON:0012398', 'UBERON:0001158', 'UBERON:0007178', 'UBERON:0007177', 'UBERON:0001156', 'UBERON:0002190', 'UBERON:0005742', 'UBERON:0002067', 'UBERON:0012489'}\n"
     ]
    }
   ],
   "source": [
    "set_AS = set(list(df_asctb[\"AS/1/ID\"])+list(df_asctb[\"AS/2/ID\"])+list(df_asctb[\"AS/3/ID\"])+list(df_asctb[\"AS/4/ID\"]))\n",
    "set_AS = {x for x in set_AS if x==x}\n",
    "unique_AS = len(set_AS)+1\n",
    "print(unique_AS)\n",
    "print(set_AS)\n",
    "\n"
   ]
  },
  {
   "cell_type": "code",
   "execution_count": 18,
   "metadata": {},
   "outputs": [],
   "source": [
    "match = []\n",
    "for uberon in df_vasculature.UBERON:\n",
    "    for asid in set_AS:\n",
    "        if uberon == asid:\n",
    "            match.append(uberon)    \n",
    "set_match = set(match)\n",
    "match = len(set_match)"
   ]
  },
  {
   "cell_type": "code",
   "execution_count": 19,
   "metadata": {},
   "outputs": [],
   "source": [
    "mapping_table.loc[len(mapping_table.index)] = ['Intestine, Large', unique_AS, match] "
   ]
  },
  {
   "cell_type": "code",
   "execution_count": 20,
   "metadata": {},
   "outputs": [
    {
     "data": {
      "text/html": [
       "<div>\n",
       "<style scoped>\n",
       "    .dataframe tbody tr th:only-of-type {\n",
       "        vertical-align: middle;\n",
       "    }\n",
       "\n",
       "    .dataframe tbody tr th {\n",
       "        vertical-align: top;\n",
       "    }\n",
       "\n",
       "    .dataframe thead th {\n",
       "        text-align: right;\n",
       "    }\n",
       "</style>\n",
       "<table border=\"1\" class=\"dataframe\">\n",
       "  <thead>\n",
       "    <tr style=\"text-align: right;\">\n",
       "      <th></th>\n",
       "      <th>organ</th>\n",
       "      <th>#AS</th>\n",
       "      <th>#AS also present in vasculature table\"</th>\n",
       "    </tr>\n",
       "  </thead>\n",
       "  <tbody>\n",
       "    <tr>\n",
       "      <th>0</th>\n",
       "      <td>Bone Marrow &amp; Blood/Pelvis</td>\n",
       "      <td>3</td>\n",
       "      <td>0</td>\n",
       "    </tr>\n",
       "    <tr>\n",
       "      <th>1</th>\n",
       "      <td>Brain</td>\n",
       "      <td>66</td>\n",
       "      <td>0</td>\n",
       "    </tr>\n",
       "    <tr>\n",
       "      <th>2</th>\n",
       "      <td>Heart</td>\n",
       "      <td>50</td>\n",
       "      <td>9</td>\n",
       "    </tr>\n",
       "    <tr>\n",
       "      <th>3</th>\n",
       "      <td>Intestine, Large</td>\n",
       "      <td>49</td>\n",
       "      <td>0</td>\n",
       "    </tr>\n",
       "  </tbody>\n",
       "</table>\n",
       "</div>"
      ],
      "text/plain": [
       "                        organ #AS #AS also present in vasculature table\"\n",
       "0  Bone Marrow & Blood/Pelvis   3                                      0\n",
       "1                       Brain  66                                      0\n",
       "2                       Heart  50                                      9\n",
       "3            Intestine, Large  49                                      0"
      ]
     },
     "execution_count": 20,
     "metadata": {},
     "output_type": "execute_result"
    }
   ],
   "source": [
    "mapping_table"
   ]
  },
  {
   "cell_type": "markdown",
   "metadata": {},
   "source": [
    "# 5. Kidney_v1"
   ]
  },
  {
   "cell_type": "code",
   "execution_count": 15,
   "metadata": {},
   "outputs": [],
   "source": [
    "organ = 'Kidney_v1'\n",
    "df_asctb = pd.read_csv('ASCT-B_VH_Kidney.csv', header = 10)\n",
    "#df_asctb = pd.read_excel (excel, sheet_name=organ, header = 10)"
   ]
  },
  {
   "cell_type": "code",
   "execution_count": 16,
   "metadata": {},
   "outputs": [
    {
     "name": "stdout",
     "output_type": "stream",
     "text": [
      "{'UBERON:0009883', 'UBERON:0002319', 'UBERON:0001226', 'UBERON:0001229', 'UBERON:0001232', 'UBERON:0004100', 'UBERON:0006852', 'UBERON:0005097', 'UBERON:0004294', 'UBERON:0004193', 'UBERON:0004203', 'UBERON:0001225', 'UBERON:0004200', 'UBERON:0005272', 'UBERON:0004188', 'UBERON:0005271', 'UBERON:0008716', 'UBERON:0004640', 'UBERON:0001228', 'UBERON:0014464', 'UBERON:0001292', 'UBERON:0004134', 'UBERON:0009095', 'UBERON:0004639', 'UBERON:0001986', 'UBERON:0001284', 'UBERON:0004197', 'UBERON:0012441', 'UBERON:0006544', 'UBERON:0005096', 'UBERON:0004204', 'UBERON:0002015', 'UBERON:0004205', 'UBERON:0002113', 'UBERON:0000362', 'UBERON:0004190', 'UBERON:0001289', 'UBERON:0004201', 'UBERON:0001294', 'UBERON:0006517', 'UBERON:0001224', 'UBERON:0009091', 'UBERON:0005215', 'UBERON:0005750', 'UBERON:0002189', 'UBERON:0004196', 'UBERON:0001291', 'UBERON:0002320', 'UBERON:0001285', 'UBERON:0001227', 'UBERON:0004202', 'UBERON:0002042', 'UBERON:0009202', 'UBERON:0001231'}\n",
      "55\n"
     ]
    }
   ],
   "source": [
    "set_AS = set(list(df_asctb[\"AS/1/ID\"])+list(df_asctb[\"AS/2/ID\"])+list(df_asctb[\"AS/3/ID\"])+list(df_asctb[\"AS/4/ID\"])+list(df_asctb[\"AS/5/ID\"]))\n",
    "set_AS = {x for x in set_AS if x==x}\n",
    "unique_AS = len(set_AS)+1\n",
    "print(set_AS)\n",
    "print(unique_AS)"
   ]
  },
  {
   "cell_type": "code",
   "execution_count": 17,
   "metadata": {},
   "outputs": [],
   "source": [
    "match = []\n",
    "for uberon in df_vasculature.UBERON:\n",
    "    for asid in set_AS:\n",
    "        if uberon == asid:\n",
    "            match.append(uberon)  \n",
    "    \n",
    "set_match = set(match)    \n",
    "match = len(set_match)"
   ]
  },
  {
   "cell_type": "code",
   "execution_count": 18,
   "metadata": {},
   "outputs": [
    {
     "name": "stdout",
     "output_type": "stream",
     "text": [
      "{'UBERON:0005272', 'UBERON:0004640', 'UBERON:0004639'}\n"
     ]
    }
   ],
   "source": [
    "print(set_match)"
   ]
  },
  {
   "cell_type": "code",
   "execution_count": 19,
   "metadata": {},
   "outputs": [
    {
     "name": "stdout",
     "output_type": "stream",
     "text": [
      "                          AS              ID\n",
      "0                left atrium  UBERON:0002079\n",
      "1             left ventricle  UBERON:0002084\n",
      "2      right coronary artery  UBERON:0001625\n",
      "3               right atrium  UBERON:0002078\n",
      "4             coronary sinus  UBERON:0005438\n",
      "5         great cardiac vein  UBERON:0006958\n",
      "6        middle cardiac vein  UBERON:0009687\n",
      "7         small cardiac vein  UBERON:0035374\n",
      "8            right ventricle  UBERON:0002080\n",
      "9   renal afferent arteriole  UBERON:0004639\n",
      "10  renal efferent arteriole  UBERON:0004640\n",
      "11     peritubular capillary  UBERON:0005272\n"
     ]
    }
   ],
   "source": [
    "for i in df_vasculature.index:\n",
    "    if df_vasculature['UBERON'][i] in set_match:\n",
    "        matching_AS.loc[len(matching_AS.index)] = [df_vasculature['Vessel'][i],df_vasculature['UBERON'][i]] \n",
    "print(matching_AS)"
   ]
  },
  {
   "cell_type": "code",
   "execution_count": 24,
   "metadata": {},
   "outputs": [
    {
     "data": {
      "text/html": [
       "<div>\n",
       "<style scoped>\n",
       "    .dataframe tbody tr th:only-of-type {\n",
       "        vertical-align: middle;\n",
       "    }\n",
       "\n",
       "    .dataframe tbody tr th {\n",
       "        vertical-align: top;\n",
       "    }\n",
       "\n",
       "    .dataframe thead th {\n",
       "        text-align: right;\n",
       "    }\n",
       "</style>\n",
       "<table border=\"1\" class=\"dataframe\">\n",
       "  <thead>\n",
       "    <tr style=\"text-align: right;\">\n",
       "      <th></th>\n",
       "      <th>AS</th>\n",
       "      <th>ID</th>\n",
       "    </tr>\n",
       "  </thead>\n",
       "  <tbody>\n",
       "    <tr>\n",
       "      <th>0</th>\n",
       "      <td>renal afferent arteriole</td>\n",
       "      <td>UBERON:0004639</td>\n",
       "    </tr>\n",
       "    <tr>\n",
       "      <th>1</th>\n",
       "      <td>renal efferent arteriole</td>\n",
       "      <td>UBERON:0004640</td>\n",
       "    </tr>\n",
       "    <tr>\n",
       "      <th>2</th>\n",
       "      <td>peritubular capillary</td>\n",
       "      <td>UBERON:0005272</td>\n",
       "    </tr>\n",
       "  </tbody>\n",
       "</table>\n",
       "</div>"
      ],
      "text/plain": [
       "                         AS              ID\n",
       "0  renal afferent arteriole  UBERON:0004639\n",
       "1  renal efferent arteriole  UBERON:0004640\n",
       "2     peritubular capillary  UBERON:0005272"
      ]
     },
     "execution_count": 24,
     "metadata": {},
     "output_type": "execute_result"
    }
   ],
   "source": [
    "matching_AS"
   ]
  },
  {
   "cell_type": "code",
   "execution_count": 24,
   "metadata": {},
   "outputs": [],
   "source": [
    "mapping_table.loc[len(mapping_table.index)] = ['Kidney', unique_AS, match] "
   ]
  },
  {
   "cell_type": "code",
   "execution_count": 25,
   "metadata": {},
   "outputs": [
    {
     "data": {
      "text/html": [
       "<div>\n",
       "<style scoped>\n",
       "    .dataframe tbody tr th:only-of-type {\n",
       "        vertical-align: middle;\n",
       "    }\n",
       "\n",
       "    .dataframe tbody tr th {\n",
       "        vertical-align: top;\n",
       "    }\n",
       "\n",
       "    .dataframe thead th {\n",
       "        text-align: right;\n",
       "    }\n",
       "</style>\n",
       "<table border=\"1\" class=\"dataframe\">\n",
       "  <thead>\n",
       "    <tr style=\"text-align: right;\">\n",
       "      <th></th>\n",
       "      <th>organ</th>\n",
       "      <th>#AS</th>\n",
       "      <th>#AS also present in vasculature table\"</th>\n",
       "    </tr>\n",
       "  </thead>\n",
       "  <tbody>\n",
       "    <tr>\n",
       "      <th>0</th>\n",
       "      <td>Bone Marrow &amp; Blood/Pelvis</td>\n",
       "      <td>3</td>\n",
       "      <td>0</td>\n",
       "    </tr>\n",
       "    <tr>\n",
       "      <th>1</th>\n",
       "      <td>Brain</td>\n",
       "      <td>66</td>\n",
       "      <td>0</td>\n",
       "    </tr>\n",
       "    <tr>\n",
       "      <th>2</th>\n",
       "      <td>Heart</td>\n",
       "      <td>50</td>\n",
       "      <td>9</td>\n",
       "    </tr>\n",
       "    <tr>\n",
       "      <th>3</th>\n",
       "      <td>Intestine, Large</td>\n",
       "      <td>49</td>\n",
       "      <td>0</td>\n",
       "    </tr>\n",
       "    <tr>\n",
       "      <th>4</th>\n",
       "      <td>Kidney</td>\n",
       "      <td>55</td>\n",
       "      <td>3</td>\n",
       "    </tr>\n",
       "  </tbody>\n",
       "</table>\n",
       "</div>"
      ],
      "text/plain": [
       "                        organ #AS #AS also present in vasculature table\"\n",
       "0  Bone Marrow & Blood/Pelvis   3                                      0\n",
       "1                       Brain  66                                      0\n",
       "2                       Heart  50                                      9\n",
       "3            Intestine, Large  49                                      0\n",
       "4                      Kidney  55                                      3"
      ]
     },
     "execution_count": 25,
     "metadata": {},
     "output_type": "execute_result"
    }
   ],
   "source": [
    "mapping_table"
   ]
  },
  {
   "cell_type": "code",
   "execution_count": 26,
   "metadata": {},
   "outputs": [
    {
     "name": "stdout",
     "output_type": "stream",
     "text": [
      "{'Descending Vasa Recta', 'Afferent Arteriole', 'Ascending Vasa Recta', 'Efferent Arteriole', 'Peritubular Capillary', 'Endothelium (non glomerular)', 'Endothelium/cortex (non glomerular)', 'Interstitium', 'Vessels', 'lymphatics'}\n"
     ]
    }
   ],
   "source": [
    "df_reporter = pd.read_excel (r'ASCT+B-Reporter_kidney_2021.07.27_08.48_Report.xlsx')\n",
    "no_uberon = list(df_reporter['AS with no Uberon Link'])\n",
    "wrong_cat = []\n",
    "for i in range(0,len(df_asctb)):\n",
    "    if type(df_asctb['AS/1'][i]) != float:        \n",
    "        if type(df_asctb['AS/1/ID'][i]) != float:\n",
    "            if df_asctb['AS/1'][i] in no_uberon:\n",
    "                wrong_cat.append(df_asctb['AS/1'][i])\n",
    "    if type(df_asctb['AS/2'][i]) != float:\n",
    "        if type(df_asctb['AS/2/ID'][i]) != float:\n",
    "            if df_asctb['AS/2'][i] in no_uberon:\n",
    "                wrong_cat.append(df_asctb['AS/2'][i])\n",
    "    if type(df_asctb['AS/3'][i]) != float:\n",
    "        if type(df_asctb['AS/3/ID'][i]) != float:\n",
    "            if df_asctb['AS/3'][i] in no_uberon:\n",
    "                wrong_cat.append(df_asctb['AS/3'][i])\n",
    "    if type(df_asctb['AS/4'][i]) != float:\n",
    "        if type(df_asctb['AS/4/ID'][i]) != float:\n",
    "            if df_asctb['AS/4'][i] in no_uberon:\n",
    "                wrong_cat.append(df_asctb['AS/4'][i])\n",
    "    if type(df_asctb['AS/5'][i]) != float:\n",
    "        if type(df_asctb['AS/5/ID'][i]) != float:\n",
    "            if df_asctb['AS/5'][i] in no_uberon:\n",
    "                wrong_cat.append(df_asctb['AS/5'][i])\n",
    "print(set(wrong_cat))"
   ]
  },
  {
   "cell_type": "markdown",
   "metadata": {},
   "source": [
    "# 6. Lung_v1"
   ]
  },
  {
   "cell_type": "code",
   "execution_count": 20,
   "metadata": {},
   "outputs": [],
   "source": [
    "organ = 'Lung_v1'\n",
    "df_asctb = pd.read_excel (excel, sheet_name=organ, header = 10)"
   ]
  },
  {
   "cell_type": "code",
   "execution_count": 21,
   "metadata": {
    "scrolled": true
   },
   "outputs": [
    {
     "name": "stdout",
     "output_type": "stream",
     "text": [
      "140\n",
      "{'CL:0000066', 'UBERON: 0010368', 'fma:7385', 'UBERON_0004517', 'fma4942', 'CL:0008019', 'fma:7400', 'UBERON:0004884', 'fma:8633', 'UBERON:0008870', 'fma::7423', 'UBERON:0004849', 'fma:7505', 'fma:7360', 'fma:7506', 'fma:7374', 'UBERON:0003387', 'UBERON:0012416', 'fma:8619', 'fma:7359', 'fma49911', 'UBERON:0007156', 'fma:8627', 'fma:7379', 'fma:7361', 'Uberon:0008953', 'UBERON:0007149', 'fma:7377', 'fma:8630', 'fma:7504', 'CL:0000115', 'fma::7401', 'fma:7402', 'UBERON:0001963', 'fma31933', 'fma:8644', 'fma:7508', 'fma:7427', 'fma:7362', 'UBERON:0008874', 'UBERON:0002184', 'fma::7432', 'fma:7339', 'fma:7426', 'fma:7373', 'UBERON:0002040', 'UBERON:0001652', 'fma:7365', 'UBERON:0002178', 'UBERON:0016405', 'UBERON:0001592', 'UBERON:0005203', 'UBERON:0002049', 'UBERON: 0008953', 'fma:8646', 'fma:8628', 'fma:8626', 'fma:8631', 'UBERON: 0002171', 'UBERON:0002187', 'UBERON:0001651', 'fma:84472', 'UBERON:0004296', 'fma:7386', 'fma49913', 'fma:7376', 'fma:7418', 'UBERON:0002168', 'fma:279818', 'fma:7375', 'UBERON_0004242', 'fma:7399', 'fma:8620', 'fma:7419', 'fma:68193', 'fma:7417', 'UBERON:0003505', 'CL:0000988', 'UBERON:0004889', 'fma:8639', 'fma:7380', 'UBERON:0003126', 'fma:68659', 'UBERON:0001901', 'fma:8616', 'UBERON: 0008952', 'UBERON:0004695', 'fma::7397', 'UBERON:0004848', 'UBERON:0005317', 'UBERON:0002401', 'fma:7430', 'fma:7403', 'fma:68194', 'UBERON:0012418', 'fma:13281', 'Uberon:0008952', 'UBERON:0002048', 'UBERON_0004516', 'fma:7431', 'UBERON:0002016', 'fma::7404', 'fma:8640', 'UBERON:0002171', 'UBERON:0002167', 'UBERON:0002339', 'UBERON:0019190', 'fma49916', 'UBERON:0003604', 'UBERON:0018227', 'fma:8642', 'fma:7397', 'fma:7338', 'fma:4837', 'fma:4146', 'UBERON:0001004', 'fma:8632', 'UBERON:0004903', 'UBERON:0002188', 'fma:7507', 'UBERON:0001102', 'fma:7363', 'UBERON:0002177', 'fma:7428', 'fma:7364', 'fma:4147', 'fma:8645', 'fma:7416', 'fma:7366', 'fma:8641', 'UBERON:0003529', 'fma49914', 'UBERON: 0002174', 'fma:13279', 'fma:7378', 'UBERON:0002173', 'fma:8647', 'UBERON:0004696', 'UBERON: 0002170'}\n"
     ]
    }
   ],
   "source": [
    "set_AS = list(df_asctb[\"AS/1/ID\"])+list(df_asctb[\"AS/2/ID\"])+list(df_asctb[\"AS/3/ID\"])+list(df_asctb[\"AS/4/ID\"])+list(df_asctb[\"AS/5/ID\"])+list(df_asctb[\"AS/6/ID\"])+list(df_asctb[\"AS/7/ID\"])+list(df_asctb[\"AS/8/ID\"])+list(df_asctb[\"AS/9/ID\"])\n",
    "set_AS = {x for x in set_AS if x==x}\n",
    "unique_AS = len(set_AS)+1\n",
    "print(unique_AS)\n",
    "print(set_AS)"
   ]
  },
  {
   "cell_type": "code",
   "execution_count": 22,
   "metadata": {},
   "outputs": [],
   "source": [
    "match = []\n",
    "for uberon in df_vasculature.UBERON:\n",
    "    for asid in set_AS:\n",
    "        if uberon == asid:\n",
    "            match.append(uberon)  \n",
    "    \n",
    "set_match = set(match)    \n",
    "match = len(set_match)"
   ]
  },
  {
   "cell_type": "code",
   "execution_count": 23,
   "metadata": {},
   "outputs": [
    {
     "name": "stdout",
     "output_type": "stream",
     "text": [
      "                          AS              ID\n",
      "0                left atrium  UBERON:0002079\n",
      "1             left ventricle  UBERON:0002084\n",
      "2      right coronary artery  UBERON:0001625\n",
      "3               right atrium  UBERON:0002078\n",
      "4             coronary sinus  UBERON:0005438\n",
      "5         great cardiac vein  UBERON:0006958\n",
      "6        middle cardiac vein  UBERON:0009687\n",
      "7         small cardiac vein  UBERON:0035374\n",
      "8            right ventricle  UBERON:0002080\n",
      "9   renal afferent arteriole  UBERON:0004639\n",
      "10  renal efferent arteriole  UBERON:0004640\n",
      "11     peritubular capillary  UBERON:0005272\n",
      "12   inferior thyroid artery  UBERON:0007149\n",
      "13     inferior thyroid vein  UBERON:0007156\n",
      "14     left pulmonary artery  UBERON:0001652\n",
      "15    right pulmonary artery  UBERON:0001651\n"
     ]
    }
   ],
   "source": [
    "for i in df_vasculature.index:\n",
    "    if df_vasculature['UBERON'][i] in set_match:\n",
    "        matching_AS.loc[len(matching_AS.index)] = [df_vasculature['Vessel'][i],df_vasculature['UBERON'][i]] \n",
    "print(matching_AS)"
   ]
  },
  {
   "cell_type": "code",
   "execution_count": 29,
   "metadata": {},
   "outputs": [
    {
     "data": {
      "text/html": [
       "<div>\n",
       "<style scoped>\n",
       "    .dataframe tbody tr th:only-of-type {\n",
       "        vertical-align: middle;\n",
       "    }\n",
       "\n",
       "    .dataframe tbody tr th {\n",
       "        vertical-align: top;\n",
       "    }\n",
       "\n",
       "    .dataframe thead th {\n",
       "        text-align: right;\n",
       "    }\n",
       "</style>\n",
       "<table border=\"1\" class=\"dataframe\">\n",
       "  <thead>\n",
       "    <tr style=\"text-align: right;\">\n",
       "      <th></th>\n",
       "      <th>AS</th>\n",
       "      <th>ID</th>\n",
       "    </tr>\n",
       "  </thead>\n",
       "  <tbody>\n",
       "    <tr>\n",
       "      <th>0</th>\n",
       "      <td>inferior thyroid artery</td>\n",
       "      <td>UBERON:0007149</td>\n",
       "    </tr>\n",
       "    <tr>\n",
       "      <th>1</th>\n",
       "      <td>inferior thyroid vein</td>\n",
       "      <td>UBERON:0007156</td>\n",
       "    </tr>\n",
       "    <tr>\n",
       "      <th>2</th>\n",
       "      <td>left pulmonary artery</td>\n",
       "      <td>UBERON:0001652</td>\n",
       "    </tr>\n",
       "    <tr>\n",
       "      <th>3</th>\n",
       "      <td>right pulmonary artery</td>\n",
       "      <td>UBERON:0001651</td>\n",
       "    </tr>\n",
       "  </tbody>\n",
       "</table>\n",
       "</div>"
      ],
      "text/plain": [
       "                        AS              ID\n",
       "0  inferior thyroid artery  UBERON:0007149\n",
       "1    inferior thyroid vein  UBERON:0007156\n",
       "2    left pulmonary artery  UBERON:0001652\n",
       "3   right pulmonary artery  UBERON:0001651"
      ]
     },
     "execution_count": 29,
     "metadata": {},
     "output_type": "execute_result"
    }
   ],
   "source": [
    "matching_AS"
   ]
  },
  {
   "cell_type": "code",
   "execution_count": 30,
   "metadata": {},
   "outputs": [],
   "source": [
    "mapping_table.loc[len(mapping_table.index)] = ['Lung', unique_AS, match]"
   ]
  },
  {
   "cell_type": "code",
   "execution_count": 31,
   "metadata": {},
   "outputs": [
    {
     "name": "stdout",
     "output_type": "stream",
     "text": [
      "{'Left Anterior Bronchopulmonary Segment', 'Right Upper Lobar Bronchus', 'Left Posterior Basal Segmental Pulmonary Artery', 'Right Medial Bronchopulmonary Segment', 'Right Lower Pulmonary vein', 'Left Lingula Superior Segmental Bronchus', 'Right Anterior Segmental Bronchus', 'Right Superior Segmental Bronchus', 'Right Lower Lobar Bronchus', 'inferior left bronchial artery', 'Right Posterior Basal Bronchopulmonary Segment', 'Left Lingula Inferior Segmental Pulmonary Artery', 'Right Lateral Segmental Bronchus', 'Right Medial Basal Segmental Bronchus', 'right bronchial vein', 'Left Anterior Segmental Pulmonary Artery', 'Left Lateral BasalSegmental Pulmonary Artery', 'Left Lateral Basal Segmental Pulmonary Artery', 'left bronchial vein', 'Left Apical Bronchopulmonary Segment', 'Left Lower Lobe', 'Right Anterior Basal Segmental Pulmonary Artery', 'Right Upper Pulmonary Artery trunk', 'Right Apical Bronchopulmonary Segment', 'Right Medial Segmental Pulmonary Artery', 'Trachea', 'Left Posterior Bronchopulmonary Segment', 'Right Lateral Basal Bronchopulmonary Segment', 'Left Medial Basal Bronchopulmonary Segment', 'Right Lower Pulmonary Artery trunk', 'Left Lower Pulmonary Artery trunk', 'Right Middle Lobar Bronchus', 'Left Upper Lobe', 'Left Posterior Basal Segmental Bronchus', 'Left Medial Basal Segmental Bronchus', 'Right Superior Segmental Pulmonary Artery', 'Left Upper Pulmonary Vein', 'Left Anterior Basal Bronchopulmonary Segment', 'Left Lingula Superior Segmental Pulmonary Artery', 'Left Upper Pulmonary Artery trunk', 'Interlobular Septa', 'Left Apicoposterior Segmental Pulmonary Artery', 'Left Superior Bronchopulmonary Segment', 'Right Lateral Segmental Pulmonary Artery', 'Right Anterior Basal Bronchopulmonary Segment', 'Left Apical Segmental Bronchus', 'Left Posterior Basal Bronchopulmonary Segment', 'Right Anterior Bronchopulmonary Segment', 'Right Upper Pulmonary vein', 'right bronchial artery', 'Left Lingula Inferior Bronchopulmonary Segment', 'Right Anterior Segmental Pulmonary Artery', 'Right Posterior Basal Segmental Bronchus', 'Right Posterior Bronchopulmonary Segment', 'Primary Bronchioles', 'Left Superior Segmental Pulmonary Artery', 'Left Anterior Basal Segmental Bronchus', 'Left Posterior Segmental Bronchus', 'Left Mesiobasal Segmental Pulmonary Artery', 'Right Posterior Segmental Bronchus', 'Right Posterior Segmental Pulmonary Artery', 'Right Lateral Basal Segmental Bronchus', 'Left Anterior Basal Segmental Pulmonary Artery', 'Right Anterior Basal Segmental Bronchus', 'Right Lateral Basal Segmental Pulmonary Artery', 'Left Lingula Superior Bronchopulmonary Segment', 'inferior thyroid vein', 'Left Lower Lobar Bronchus', 'trachea blood vessel', 'Right Medial Segmental Bronchus', 'Left Lateral Basal Segmental Bronchus', 'Left Lateral Basal Bronchopulmonary Segment', 'Right Superior Bronchopulmonary Segment', 'Right Apicoposterior Segmental Pulmonary Artery', 'Right Medial Basal Segmental Pulmonary Artery', 'Left Superior Segmental Bronchus', 'Right Posterior Basal Segmental Pulmonary Artery', 'Left Upper Lobar Bronchus', 'Right Lateral Bronchopulmonary Segment', 'Left Lingula Inferior Segmental Bronchus', 'superior left bronchial artery', 'Left Lower Pulmonary Vein', 'Left Anterior Segmental Bronchus', 'Right Medial Basal Bronchopulmonary Segment'}\n"
     ]
    }
   ],
   "source": [
    "df_reporter = pd.read_excel (r'ASCT+B-Reporter_lung_draft_2021.07.27_09.06_Report.xlsx')\n",
    "no_uberon = list(df_reporter['AS with no Uberon Link'])\n",
    "wrong_cat = []\n",
    "for i in range(0,len(df_asctb)):\n",
    "    if type(df_asctb['AS/1'][i]) != float:        \n",
    "        if type(df_asctb['AS/1/ID'][i]) != float:\n",
    "            if df_asctb['AS/1'][i] in no_uberon:\n",
    "                wrong_cat.append(df_asctb['AS/1'][i])\n",
    "    if type(df_asctb['AS/2'][i]) != float:\n",
    "        if type(df_asctb['AS/2/ID'][i]) != float:\n",
    "            if df_asctb['AS/2'][i] in no_uberon:\n",
    "                wrong_cat.append(df_asctb['AS/2'][i])\n",
    "    if type(df_asctb['AS/3'][i]) != float:\n",
    "        if type(df_asctb['AS/3/ID'][i]) != float:\n",
    "            if df_asctb['AS/3'][i] in no_uberon:\n",
    "                wrong_cat.append(df_asctb['AS/3'][i])\n",
    "    if type(df_asctb['AS/4'][i]) != float:\n",
    "        if type(df_asctb['AS/4/ID'][i]) != float:\n",
    "            if df_asctb['AS/4'][i] in no_uberon:\n",
    "                wrong_cat.append(df_asctb['AS/4'][i])\n",
    "    if type(df_asctb['AS/5'][i]) != float:\n",
    "        if type(df_asctb['AS/5/ID'][i]) != float:\n",
    "            if df_asctb['AS/5'][i] in no_uberon:\n",
    "                wrong_cat.append(df_asctb['AS/5'][i])\n",
    "    if type(df_asctb['AS/6'][i]) != float:\n",
    "        if type(df_asctb['AS/6/ID'][i]) != float:\n",
    "            if df_asctb['AS/6'][i] in no_uberon:\n",
    "                wrong_cat.append(df_asctb['AS/6'][i])\n",
    "    if type(df_asctb['AS/7'][i]) != float:\n",
    "        if type(df_asctb['AS/7/ID'][i]) != float:\n",
    "            if df_asctb['AS/7'][i] in no_uberon:\n",
    "                wrong_cat.append(df_asctb['AS/7'][i])\n",
    "    if type(df_asctb['AS/8'][i]) != float:\n",
    "        if type(df_asctb['AS/8/ID'][i]) != float:\n",
    "            if df_asctb['AS/8'][i] in no_uberon:\n",
    "                wrong_cat.append(df_asctb['AS/8'][i])\n",
    "    if type(df_asctb['AS/9'][i]) != float:\n",
    "        if type(df_asctb['AS/9/ID'][i]) != float:\n",
    "            if df_asctb['AS/9'][i] in no_uberon:\n",
    "                wrong_cat.append(df_asctb['AS/9'][i])\n",
    "                \n",
    "print(set(wrong_cat))"
   ]
  },
  {
   "cell_type": "markdown",
   "metadata": {},
   "source": [
    "# 7. Lymph_Node_v1"
   ]
  },
  {
   "cell_type": "code",
   "execution_count": 32,
   "metadata": {},
   "outputs": [],
   "source": [
    "organ = 'Lymph_Node_v1'\n",
    "df_asctb = pd.read_excel (excel, sheet_name=organ, header = 10)"
   ]
  },
  {
   "cell_type": "code",
   "execution_count": 33,
   "metadata": {},
   "outputs": [
    {
     "name": "stdout",
     "output_type": "stream",
     "text": [
      "17\n",
      "['UBERON:0009039', 'UBERON:0010420', 'UBERON:0002195', 'UBERON:0010395', 'UBERON:0009744', 'UBERON:0005463', 'UBERON:0002007', 'UBERON:0010417 Willlard-Mack 2006, Medeiros 2017   ', 'UBERON:0010397', 'UBERON:0000029', 'UBERON:0002194', 'UBERON:0010396', 'UBERON:0002006', 'UBERON:0035495', 'UBERON:0009745', 'UBERON:0010753']\n"
     ]
    }
   ],
   "source": [
    "import re\n",
    "#regex = re.compile()\n",
    "pattern = '^U'\n",
    "\n",
    "set_AS = []\n",
    "set_AS_raw = list(df_asctb[\"AS/1/ID\"])+list(df_asctb[\"AS/2/ID\"])+list(df_asctb[\"AS/3/ID\"])+list(df_asctb[\"AS/4/ID\"])+list(df_asctb[\"AS/5/ID\"])\n",
    "set_AS_raw = {x for x in set_AS_raw if x==x}\n",
    "for i in set_AS_raw:\n",
    "    if re.match(pattern,i):\n",
    "        set_AS.append(i)\n",
    "unique_AS = len(set_AS)+1\n",
    "print(unique_AS)\n",
    "print(set_AS)"
   ]
  },
  {
   "cell_type": "code",
   "execution_count": 34,
   "metadata": {},
   "outputs": [],
   "source": [
    "match = []\n",
    "for uberon in df_vasculature.UBERON:\n",
    "    for asid in set_AS:\n",
    "        if uberon == asid:\n",
    "            match.append(uberon)\n",
    "    \n",
    "set_match = set(match)    \n",
    "match = len(set_match)"
   ]
  },
  {
   "cell_type": "code",
   "execution_count": 35,
   "metadata": {},
   "outputs": [],
   "source": [
    "mapping_table.loc[len(mapping_table.index)] = ['Lymph Node', unique_AS, match] "
   ]
  },
  {
   "cell_type": "code",
   "execution_count": 36,
   "metadata": {},
   "outputs": [
    {
     "data": {
      "text/html": [
       "<div>\n",
       "<style scoped>\n",
       "    .dataframe tbody tr th:only-of-type {\n",
       "        vertical-align: middle;\n",
       "    }\n",
       "\n",
       "    .dataframe tbody tr th {\n",
       "        vertical-align: top;\n",
       "    }\n",
       "\n",
       "    .dataframe thead th {\n",
       "        text-align: right;\n",
       "    }\n",
       "</style>\n",
       "<table border=\"1\" class=\"dataframe\">\n",
       "  <thead>\n",
       "    <tr style=\"text-align: right;\">\n",
       "      <th></th>\n",
       "      <th>organ</th>\n",
       "      <th>#AS</th>\n",
       "      <th>#AS also present in vasculature table\"</th>\n",
       "    </tr>\n",
       "  </thead>\n",
       "  <tbody>\n",
       "    <tr>\n",
       "      <th>0</th>\n",
       "      <td>Bone Marrow &amp; Blood/Pelvis</td>\n",
       "      <td>3</td>\n",
       "      <td>0</td>\n",
       "    </tr>\n",
       "    <tr>\n",
       "      <th>1</th>\n",
       "      <td>Brain</td>\n",
       "      <td>66</td>\n",
       "      <td>0</td>\n",
       "    </tr>\n",
       "    <tr>\n",
       "      <th>2</th>\n",
       "      <td>Heart</td>\n",
       "      <td>50</td>\n",
       "      <td>9</td>\n",
       "    </tr>\n",
       "    <tr>\n",
       "      <th>3</th>\n",
       "      <td>Intestine, Large</td>\n",
       "      <td>49</td>\n",
       "      <td>0</td>\n",
       "    </tr>\n",
       "    <tr>\n",
       "      <th>4</th>\n",
       "      <td>Kidney</td>\n",
       "      <td>55</td>\n",
       "      <td>3</td>\n",
       "    </tr>\n",
       "    <tr>\n",
       "      <th>5</th>\n",
       "      <td>Lung</td>\n",
       "      <td>140</td>\n",
       "      <td>4</td>\n",
       "    </tr>\n",
       "    <tr>\n",
       "      <th>6</th>\n",
       "      <td>Lymph Node</td>\n",
       "      <td>17</td>\n",
       "      <td>0</td>\n",
       "    </tr>\n",
       "  </tbody>\n",
       "</table>\n",
       "</div>"
      ],
      "text/plain": [
       "                        organ  #AS #AS also present in vasculature table\"\n",
       "0  Bone Marrow & Blood/Pelvis    3                                      0\n",
       "1                       Brain   66                                      0\n",
       "2                       Heart   50                                      9\n",
       "3            Intestine, Large   49                                      0\n",
       "4                      Kidney   55                                      3\n",
       "5                        Lung  140                                      4\n",
       "6                  Lymph Node   17                                      0"
      ]
     },
     "execution_count": 36,
     "metadata": {},
     "output_type": "execute_result"
    }
   ],
   "source": [
    "mapping_table"
   ]
  },
  {
   "cell_type": "markdown",
   "metadata": {},
   "source": [
    "# 8. Skin_v1"
   ]
  },
  {
   "cell_type": "code",
   "execution_count": 37,
   "metadata": {},
   "outputs": [],
   "source": [
    "organ = 'Skin_v1'\n",
    "df_asctb = pd.read_excel (excel, sheet_name=organ, header = 10)"
   ]
  },
  {
   "cell_type": "code",
   "execution_count": 38,
   "metadata": {},
   "outputs": [
    {
     "name": "stdout",
     "output_type": "stream",
     "text": [
      "{'UBERON_0002072', 'UBERON_0000423', 'UBERON_0002073', 'UBERON_0001821', 'UBERON:0007121', 'UBERON_0002199', 'UBERON:0002097', 'UBERON_0002026', 'UBERON_0002025', 'UBERON:0035549', 'UBERON_0001003', 'UBERON_0008974', 'UBERON_0002027', 'UBERON_0002069', 'UBERON_0008198'}\n",
      "16\n"
     ]
    }
   ],
   "source": [
    "set_AS = list(df_asctb[\"AS/1/ID\"])+list(df_asctb[\"AS/2/ID\"])+list(df_asctb[\"AS/3/ID\"])+list(df_asctb[\"AS/4/ID\"])\n",
    "set_AS = {x for x in set_AS if x==x}\n",
    "unique_AS = len(set_AS)+1\n",
    "print(set_AS)\n",
    "print(unique_AS)"
   ]
  },
  {
   "cell_type": "code",
   "execution_count": 39,
   "metadata": {},
   "outputs": [],
   "source": [
    "match = []\n",
    "for uberon in df_vasculature.UBERON:\n",
    "    for asid in set_AS:\n",
    "        if uberon == asid:\n",
    "            match.append(uberon)    \n",
    "set_match = set(match)    \n",
    "match = len(set_match)"
   ]
  },
  {
   "cell_type": "code",
   "execution_count": 40,
   "metadata": {},
   "outputs": [],
   "source": [
    "mapping_table.loc[len(mapping_table.index)] = ['Skin', unique_AS, match] "
   ]
  },
  {
   "cell_type": "markdown",
   "metadata": {},
   "source": [
    "# 9. Spleen_v1"
   ]
  },
  {
   "cell_type": "code",
   "execution_count": 24,
   "metadata": {},
   "outputs": [],
   "source": [
    "organ = 'Spleen_v1'\n",
    "df_asctb = pd.read_excel (excel, sheet_name=organ, header = 10)"
   ]
  },
  {
   "cell_type": "code",
   "execution_count": 25,
   "metadata": {},
   "outputs": [
    {
     "name": "stdout",
     "output_type": "stream",
     "text": [
      "{'UBERON:0001266', 'UBERON:0010421', 'UBERON:0001194', 'UBERON:0009967', 'UBERON:1000023', 'UBERON:0001959', 'UBERON:0004042', 'UBERON:0010400', 'UBERON:0013132', 'UBERON:0003713', 'UBERON:0010399', 'UBERON:0001265', 'UBERON:0001250', 'UBERON:0002108', 'UBERON:0001638', 'UBERON:0005353', 'UBERON:0005196', 'UBERON:0010401', 'UBERON:0001251', 'UBERON:0001473', 'UBERON:0001960', 'UBERON:0001248', 'UBERON:0002106', 'UBERON:0004641', 'UBERON:0002107'}\n",
      "26\n"
     ]
    }
   ],
   "source": [
    "set_AS = list(df_asctb[\"AS/1/ID\"])+list(df_asctb[\"AS/2/ID\"])+list(df_asctb[\"AS/3/ID\"])+list(df_asctb[\"AS/4/ID\"])+list(df_asctb[\"AS/5/ID\"])+list(df_asctb[\"A S/6/ID\"])\n",
    "set_AS = {x for x in set_AS if x==x}\n",
    "set_AS.remove('NOT FOUND')\n",
    "unique_AS = len(set_AS)+1\n",
    "print(set_AS)\n",
    "print(unique_AS)"
   ]
  },
  {
   "cell_type": "code",
   "execution_count": 26,
   "metadata": {},
   "outputs": [],
   "source": [
    "match = []\n",
    "for uberon in df_vasculature.UBERON:\n",
    "    for asid in set_AS:\n",
    "        if uberon == asid:\n",
    "            match.append(uberon)\n",
    "    \n",
    "set_match = set(match)    \n",
    "match = len(set_match)"
   ]
  },
  {
   "cell_type": "code",
   "execution_count": 27,
   "metadata": {},
   "outputs": [
    {
     "name": "stdout",
     "output_type": "stream",
     "text": [
      "                          AS              ID\n",
      "0                left atrium  UBERON:0002079\n",
      "1             left ventricle  UBERON:0002084\n",
      "2      right coronary artery  UBERON:0001625\n",
      "3               right atrium  UBERON:0002078\n",
      "4             coronary sinus  UBERON:0005438\n",
      "5         great cardiac vein  UBERON:0006958\n",
      "6        middle cardiac vein  UBERON:0009687\n",
      "7         small cardiac vein  UBERON:0035374\n",
      "8            right ventricle  UBERON:0002080\n",
      "9   renal afferent arteriole  UBERON:0004639\n",
      "10  renal efferent arteriole  UBERON:0004640\n",
      "11     peritubular capillary  UBERON:0005272\n",
      "12   inferior thyroid artery  UBERON:0007149\n",
      "13     inferior thyroid vein  UBERON:0007156\n",
      "14     left pulmonary artery  UBERON:0001652\n",
      "15    right pulmonary artery  UBERON:0001651\n",
      "16            splenic artery  UBERON:0001194\n",
      "17  spleen trabecular artery  UBERON:0010399\n",
      "18  spleen central arteriole  UBERON:0010401\n",
      "19      penicillar arteriole  UBERON:0013132\n",
      "20              splenic vein  UBERON:0003713\n",
      "21    spleen trabecular vein  UBERON:0010400\n"
     ]
    }
   ],
   "source": [
    "for i in df_vasculature.index:\n",
    "    if df_vasculature['UBERON'][i] in set_match:\n",
    "        matching_AS.loc[len(matching_AS.index)] = [df_vasculature['Vessel'][i],df_vasculature['UBERON'][i]] \n",
    "print(matching_AS)"
   ]
  },
  {
   "cell_type": "code",
   "execution_count": 34,
   "metadata": {},
   "outputs": [
    {
     "data": {
      "text/html": [
       "<div>\n",
       "<style scoped>\n",
       "    .dataframe tbody tr th:only-of-type {\n",
       "        vertical-align: middle;\n",
       "    }\n",
       "\n",
       "    .dataframe tbody tr th {\n",
       "        vertical-align: top;\n",
       "    }\n",
       "\n",
       "    .dataframe thead th {\n",
       "        text-align: right;\n",
       "    }\n",
       "</style>\n",
       "<table border=\"1\" class=\"dataframe\">\n",
       "  <thead>\n",
       "    <tr style=\"text-align: right;\">\n",
       "      <th></th>\n",
       "      <th>AS</th>\n",
       "      <th>ID</th>\n",
       "    </tr>\n",
       "  </thead>\n",
       "  <tbody>\n",
       "    <tr>\n",
       "      <th>0</th>\n",
       "      <td>splenic artery</td>\n",
       "      <td>UBERON:0001194</td>\n",
       "    </tr>\n",
       "    <tr>\n",
       "      <th>1</th>\n",
       "      <td>spleen trabecular artery</td>\n",
       "      <td>UBERON:0010399</td>\n",
       "    </tr>\n",
       "    <tr>\n",
       "      <th>2</th>\n",
       "      <td>spleen central arteriole</td>\n",
       "      <td>UBERON:0010401</td>\n",
       "    </tr>\n",
       "    <tr>\n",
       "      <th>3</th>\n",
       "      <td>penicillar arteriole</td>\n",
       "      <td>UBERON:0013132</td>\n",
       "    </tr>\n",
       "    <tr>\n",
       "      <th>4</th>\n",
       "      <td>splenic vein</td>\n",
       "      <td>UBERON:0003713</td>\n",
       "    </tr>\n",
       "    <tr>\n",
       "      <th>5</th>\n",
       "      <td>spleen trabecular vein</td>\n",
       "      <td>UBERON:0010400</td>\n",
       "    </tr>\n",
       "  </tbody>\n",
       "</table>\n",
       "</div>"
      ],
      "text/plain": [
       "                         AS              ID\n",
       "0            splenic artery  UBERON:0001194\n",
       "1  spleen trabecular artery  UBERON:0010399\n",
       "2  spleen central arteriole  UBERON:0010401\n",
       "3      penicillar arteriole  UBERON:0013132\n",
       "4              splenic vein  UBERON:0003713\n",
       "5    spleen trabecular vein  UBERON:0010400"
      ]
     },
     "execution_count": 34,
     "metadata": {},
     "output_type": "execute_result"
    }
   ],
   "source": [
    "matching_AS"
   ]
  },
  {
   "cell_type": "code",
   "execution_count": 44,
   "metadata": {},
   "outputs": [],
   "source": [
    "mapping_table.loc[len(mapping_table.index)] = ['Spleen', unique_AS, match] "
   ]
  },
  {
   "cell_type": "markdown",
   "metadata": {},
   "source": [
    "# 10. Thymus_v1"
   ]
  },
  {
   "cell_type": "code",
   "execution_count": 28,
   "metadata": {},
   "outputs": [],
   "source": [
    "organ = 'Thymus_v1'\n",
    "df_asctb = pd.read_excel (excel, sheet_name=organ, header = 10)"
   ]
  },
  {
   "cell_type": "code",
   "execution_count": 29,
   "metadata": {},
   "outputs": [
    {
     "name": "stdout",
     "output_type": "stream",
     "text": [
      "{'UBERON:0010397', 'UBERON:0018243', 'UBERON:0002124', 'UBERON:0002123', 'UBERON:0003846', 'UBERON:0005483', 'UBERON:0003483', 'UBERON:0006936', 'UBERON:0001021', 'UBERON:0004791', 'UBERON:0001013', 'UBERON:0001591', 'UBERON:0002370', 'UBERON:0002125', 'UBERON:0002384'}\n",
      "16\n"
     ]
    }
   ],
   "source": [
    "set_AS = list(df_asctb[\"AS/1/ID\"])+list(df_asctb[\"AS/2/ID\"])+list(df_asctb[\"AS/3/ID\"])+list(df_asctb[\"AS/4/ID\"])+list(df_asctb[\"AS/5/ID\"])\n",
    "set_AS = {x for x in set_AS if x==x}\n",
    "unique_AS = len(set_AS)+1\n",
    "print(set_AS)\n",
    "print(unique_AS)"
   ]
  },
  {
   "cell_type": "code",
   "execution_count": 30,
   "metadata": {},
   "outputs": [],
   "source": [
    "match = []\n",
    "for uberon in df_vasculature.UBERON:    \n",
    "    for asid in set_AS:\n",
    "        if uberon == asid:\n",
    "            match.append(uberon)\n",
    "    \n",
    "set_match = set(match)    \n",
    "match = len(set_match)"
   ]
  },
  {
   "cell_type": "code",
   "execution_count": 31,
   "metadata": {},
   "outputs": [
    {
     "name": "stdout",
     "output_type": "stream",
     "text": [
      "                          AS              ID\n",
      "0                left atrium  UBERON:0002079\n",
      "1             left ventricle  UBERON:0002084\n",
      "2      right coronary artery  UBERON:0001625\n",
      "3               right atrium  UBERON:0002078\n",
      "4             coronary sinus  UBERON:0005438\n",
      "5         great cardiac vein  UBERON:0006958\n",
      "6        middle cardiac vein  UBERON:0009687\n",
      "7         small cardiac vein  UBERON:0035374\n",
      "8            right ventricle  UBERON:0002080\n",
      "9   renal afferent arteriole  UBERON:0004639\n",
      "10  renal efferent arteriole  UBERON:0004640\n",
      "11     peritubular capillary  UBERON:0005272\n",
      "12   inferior thyroid artery  UBERON:0007149\n",
      "13     inferior thyroid vein  UBERON:0007156\n",
      "14     left pulmonary artery  UBERON:0001652\n",
      "15    right pulmonary artery  UBERON:0001651\n",
      "16            splenic artery  UBERON:0001194\n",
      "17  spleen trabecular artery  UBERON:0010399\n",
      "18  spleen central arteriole  UBERON:0010401\n",
      "19      penicillar arteriole  UBERON:0013132\n",
      "20              splenic vein  UBERON:0003713\n",
      "21    spleen trabecular vein  UBERON:0010400\n",
      "22             thymic artery  UBERON:0018243\n",
      "23               thymic vein  UBERON:0001591\n"
     ]
    }
   ],
   "source": [
    "for i in df_vasculature.index:\n",
    "    if df_vasculature['UBERON'][i] in set_match:\n",
    "        matching_AS.loc[len(matching_AS.index)] = [df_vasculature['Vessel'][i],df_vasculature['UBERON'][i]] \n",
    "print(matching_AS)"
   ]
  },
  {
   "cell_type": "code",
   "execution_count": 39,
   "metadata": {},
   "outputs": [
    {
     "data": {
      "text/html": [
       "<div>\n",
       "<style scoped>\n",
       "    .dataframe tbody tr th:only-of-type {\n",
       "        vertical-align: middle;\n",
       "    }\n",
       "\n",
       "    .dataframe tbody tr th {\n",
       "        vertical-align: top;\n",
       "    }\n",
       "\n",
       "    .dataframe thead th {\n",
       "        text-align: right;\n",
       "    }\n",
       "</style>\n",
       "<table border=\"1\" class=\"dataframe\">\n",
       "  <thead>\n",
       "    <tr style=\"text-align: right;\">\n",
       "      <th></th>\n",
       "      <th>AS</th>\n",
       "      <th>ID</th>\n",
       "    </tr>\n",
       "  </thead>\n",
       "  <tbody>\n",
       "    <tr>\n",
       "      <th>0</th>\n",
       "      <td>thymic artery</td>\n",
       "      <td>UBERON:0018243</td>\n",
       "    </tr>\n",
       "    <tr>\n",
       "      <th>1</th>\n",
       "      <td>thymic vein</td>\n",
       "      <td>UBERON:0001591</td>\n",
       "    </tr>\n",
       "  </tbody>\n",
       "</table>\n",
       "</div>"
      ],
      "text/plain": [
       "              AS              ID\n",
       "0  thymic artery  UBERON:0018243\n",
       "1    thymic vein  UBERON:0001591"
      ]
     },
     "execution_count": 39,
     "metadata": {},
     "output_type": "execute_result"
    }
   ],
   "source": [
    "matching_AS"
   ]
  },
  {
   "cell_type": "code",
   "execution_count": 48,
   "metadata": {},
   "outputs": [],
   "source": [
    "mapping_table.loc[len(mapping_table.index)] = ['Thymus', unique_AS, match] "
   ]
  },
  {
   "cell_type": "markdown",
   "metadata": {},
   "source": [
    "# 11. Vasculature_v1"
   ]
  },
  {
   "cell_type": "code",
   "execution_count": 32,
   "metadata": {},
   "outputs": [],
   "source": [
    "organ = 'Vasculature_v1'\n",
    "df_asctb = pd.read_excel (excel, sheet_name=organ, header = 10)"
   ]
  },
  {
   "cell_type": "code",
   "execution_count": 33,
   "metadata": {},
   "outputs": [
    {
     "name": "stdout",
     "output_type": "stream",
     "text": [
      "{'fma4875', 'UBERON:0001653', 'UBERON:0001634', 'UBERON:0001541', 'fma4708', 'UBERON:0007146', 'fma44647', 'UBERON:0001553', 'fma49555', 'fma23058', 'UBERON:0001641', 'UBERON:0001214', 'fma3862', 'UBERON:0035261', 'fma70441', 'UBERON:0002070', 'fma10652', 'fma4880', 'UBERON:0001552', 'fma44034', 'UBERON:0004726', 'UBERON:0011955', 'UBERON:0035529', 'fma5004', 'UBERON:0034927', 'UBERON:0001538', 'fma49580', 'fma22750', 'fma14324', 'fma50638', 'UBERON:0007149', 'fma20966', 'fma4969', 'fma66421', 'UBERON:0005464', 'UBERON:0001669', 'UBERON:0001514', 'fma14744', 'UBERON:0006664', 'UBERON:0001101', 'UBERON:0034964', 'fma14755', 'UBERON:0035530', 'UBERON:0001652', 'UBERON:0011957', 'fma14290', 'fma70150', 'UBERON:0003712', 'fma22950', 'UBERON:0010132', 'UBERON:0036300', 'fma49771', 'UBERON:0013143', 'fma49631', 'UBERON:0001540', 'fma50802', 'UBERON:0007152', 'UBERON:0001673', 'fma14762', 'fma322921', 'fma8616', 'fma44649', 'fma50769', 'UBERON:0002049', 'fma49483', 'UBERON:0018252', 'UBERON:0012200', 'UBERON:0001104', 'UBERON:0006663', 'fma4170', 'fma71544', 'fma22536', 'fma4452', 'UBERON:0001318', 'UBERON:0007155', 'UBERON:0007153', 'UBERON:0035374', 'UBERON:0001651', 'UBERON:0003470', 'UBERON:0001188', 'fma4734', 'fma71492', 'UBERON:0001412', 'fma4800', 'fma69797', 'UBERON:0001143', 'fma10650', 'UBERON:3010417', 'UBERON:0003468', 'UBERON:0015481', 'fma50800', 'UBERON:0001187', 'fma6646', 'UBERON:0001622', 'fma50781', 'UBERON:0009040', 'fma14740', 'UBERON:0001534', 'fma68847', 'fma70502', 'fma22510', 'UBERON:0008889', 'UBERON:0001183', 'UBERON:0006841', 'fma22954', 'fma50437', 'UBERON:0035474', 'fma10651', 'fma4222', 'UBERON:0006656', 'fma14319', 'UBERON:0001496', 'UBERON:0012322', 'fma18905', 'UBERON:0001530', 'fma4983', 'UBERON:0003477', 'UBERON:0001218', 'fma8646', 'UBERON:0003713', 'fma22710', 'UBERON:0002249', 'fma71675', 'UBERON:0001141', 'UBERON:0001395', 'UBERON:0006137', 'UBERON:0014685', 'UBERON:0001628', 'fma4383', 'fma22680', 'fma4976', 'fma4746', 'fma52492', 'UBERON:0001664', 'fma4741', 'fma4859', 'UBERON:0002333', 'fma21254', 'fma13279', 'fma14808', 'fma70777', 'fma13281', 'fma4634', 'fma14787', 'fma51770', 'UBERON:0009049', 'fma70778', 'UBERON:0002493', 'fma49546', 'UBERON:0001610', 'UBERON:0001613', 'UBERON:0001612', 'fma50855', 'UBERON:0001309', 'fma18850', 'UBERON:0001411', 'UBERON:0001589', 'fma44648', 'fma15393', 'fma52246', 'UBERON:0001672', 'UBERON:0001216', 'fma14347', 'fma3840', 'UBERON:0034982', 'UBERON:0035404', 'UBERON:0001139', 'fma14738', 'fma4870', 'UBERON:0014693', 'UBERON:0001516', 'UBERON:0001404', 'UBERON:0001636', 'fma8628', 'UBERON:0012194', 'UBERON:0001414', 'fma322901', 'fma10656', 'UBERON:0035322', 'fma8630', 'UBERON:0001624', 'UBERON:0001186', 'fma3818', 'UBERON:0001626', 'fma21121', 'fma49796', 'fma22810', 'fma20804', 'fma322906', 'UBERON:0001639', 'fma21120', 'UBERON:0001585', 'fma43889', 'fma3990', 'UBERON:0005272', 'fma71523', 'UBERON:0005628', 'UBERON:0009687', 'fma22958', 'UBERON:0035640', 'UBERON:0014772', 'fma49647', 'UBERON:0002270', 'fma4879', 'UBERON:0001670', 'fma44630', 'UBERON:0006764', 'UBERON:0004723', 'fma69513', 'UBERON:0018253', 'UBERON:0001586', 'fma49911', 'UBERON:0014695', 'fma4291', 'UBERON:0014686', 'UBERON:0001658', 'UBERON:0001313', 'UBERON:0034693', 'fma4761', 'fma9284', 'fma69798', 'fma18871', 'fma0329301', 'fma50997', 'fma8617', 'UBERON:0002011', 'fma14811', 'fma70893', 'fma50898', 'fma50771', 'UBERON:0001357', 'fma51798', 'fma14819', 'fma68069', 'UBERON:0001584', 'fma20798', 'fma20701', 'UBERON:0001182', 'UBERON:0003478', 'UBERON:0001219', 'fma79467', 'UBERON:0009048', 'fma14824', 'UBERON:0014696', 'fma49804', 'fma51239', 'fma10649', 'UBERON:0001659', 'fma70500', 'fma43902', 'UBERON:0001317', 'fma14756', 'UBERON:0014691', 'fma44504', 'UBERON:0008320', 'UBERON:0006198', 'UBERON:0001546', 'UBERON:0001217', 'fma49913', 'fma22506', 'UBERON:0007150', 'UBERON:0002460', 'UBERON:0009887', 'fma4837', 'fma70444', 'fma22511', 'fma4314', 'UBERON:0002088', 'fma49746', 'UBERON:0035655', 'fma22817', 'UBERON:0013144', 'UBERON:0001588', 'UBERON:0005431', 'fma71525', 'fma322922', 'UBERON:0001192', 'UBERON:0001314', 'fma3964', 'UBERON:0001535', 'fma69460', 'UBERON:0012187', 'fma51329', 'UBERON:0001340', 'UBERON:0001140', 'UBERON:0010408', 'fma49561', 'fma21388', 'fma22684', 'UBERON:0001191', 'UBERON:0012195', 'UBERON:0001354', 'UBERON:0012199', 'UBERON:0001611', 'fma0323778', 'fma22806', 'fma10657', 'UBERON:0010399', 'fma3994', 'UBERON:0006355', 'UBERON:0001547', 'fma4735', 'fma20811', 'UBERON:0001537', 'UBERON:0003471', 'fma18908', 'fma22584', 'fma8755', 'UBERON:0006345', 'fma22420', 'fma70921', 'fma4873', 'UBERON:0006139', 'UBERON:0018231', 'UBERON:0006636', 'fma50329', 'fma4751', 'fma49916', 'fma14784', 'fma22838', 'UBERON:0001072', 'fma49831', 'fma3895', 'fma4748', 'UBERON:0001363', 'fma70892', 'UBERON:0002459', 'fma21200', 'fma20886', 'UBERON:0004640', 'UBERON:0001420', 'fma22820', 'UBERON:0001138', 'UBERON:0001550', 'UBERON:0000443', 'UBERON:0035231', 'fma70503', 'UBERON:0035195', 'fma49660', 'fma22811', 'UBERON:0001321', 'fma8618', 'fma4739', 'fma49962', 'UBERON:0018256', 'fma43904', 'UBERON:0012321', 'fma4737', 'fma15390', 'fma15736', 'UBERON:0035183', 'UBERON:0012237', 'UBERON:0007157', 'UBERON:0007154', 'UBERON:0001184', 'fma71587', 'fma14746', 'fma323401', 'UBERON:0002455', 'UBERON:0001532', 'fma12852', 'fma44489', 'UBERON:0034981', 'fma49477', 'UBERON:0001406', 'fma44650', 'UBERON:0001070', 'UBERON:0002084', 'fma68193', 'fma14829', 'UBERON:0015160', 'UBERON:0006144', 'fma8645', 'UBERON:0001627', 'UBERON:0001660', 'fma49644', 'UBERON:0006687', 'fma4744', 'fma4942', 'UBERON:0001561', 'fma70499', 'UBERON:0006146', 'fma4176', 'fma70494', 'fma49791', 'UBERON:0010251', 'UBERON:0013132', 'UBERON:0005192', 'UBERON:0012173', 'UBERON:0004639', 'fma14820', 'UBERON:0001198', 'UBERON:0015171', 'UBERON:0035249', 'UBERON:0010250', 'fma4733', 'fma15397', 'fma69329', 'UBERON:0001316', 'fma14747', 'fma22585', 'UBERON:0035392', 'fma4165', 'UBERON:0001614', 'fma22947', 'UBERON:0001356', 'UBERON:0001655', 'UBERON:0001396', 'UBERON:0012255', 'UBERON:0001642', 'UBERON:0035040', 'UBERON:0001590', 'fma50830', 'fma22967', 'fma4498', 'UBERON:0001319', 'fma49641', 'UBERON:0001361', 'UBERON:0035225', 'UBERON:0001360', 'UBERON:0007693', 'UBERON:0001197', 'UBERON:0011956', 'UBERON:0001618', 'fma4184', 'UBERON:0036074', 'fma50330', 'UBERON:0001654', 'UBERON:0014773', 'UBERON:0001640', 'fma18893', 'UBERON:0002505', 'UBERON:0001358', 'fma21242', 'fma22748', 'UBERON:0015157', 'UBERON:0004719', 'fma14776', 'UBERON:0001633', 'fma4799', 'UBERON:0012196', 'fma50630', 'UBERON:0001413', 'fma50826', 'fma4654', 'UBERON:0001195', 'fma4406', 'UBERON:0000442', 'fma70438', 'UBERON:0035180', 'fma70370', 'UBERON:0001320', 'fma3823', 'fma10655', 'fma49474', 'UBERON:0000947', 'UBERON:0035150', 'fma3860', 'UBERON:0001635', 'fma49497', 'UBERON:0001315', 'fma14794', 'fma4860', 'fma10641', 'UBERON:0006958', 'fma68848', 'UBERON:0000985', 'fma76736', 'UBERON:0002250', 'fma49608', 'UBERON:0004212', 'fma51350', 'fma14818', 'fma4360', 'fma49618', 'fma49558', 'UBERON:0002078', 'fma10787', 'UBERON:0001394', 'UBERON:0018243', 'UBERON:0035222', 'UBERON:0035152', 'UBERON:0009041', 'fma9311', 'UBERON:0015480', 'fma85528', 'fma66241', 'fma4962', 'UBERON:0007316', 'UBERON:0001531', 'fma68070', 'fma70195', 'UBERON:0001661', 'fma49669', 'fma50327', 'fma4949', 'UBERON:0001548', 'fma4567', 'fma8632', 'UBERON:0001615', 'fma18896', 'UBERON:0001410', 'fma23179', 'fma3851', 'fma8642', 'fma44356', 'fma43918', 'UBERON:0001106', 'fma14763', 'fma43905', 'fma321542', 'fma61437', 'UBERON:0035830', 'fma44319', 'fma4874', 'UBERON:0034965', 'fma10654', 'fma70175', 'fma50442', 'fma4876', 'fma18855', 'UBERON:0001189', 'fma4268', 'fma49602', 'UBERON:0035462', 'fma44660', 'UBERON:0001398', 'fma15407', 'UBERON:0007160', 'fma20805', 'fma14835', 'UBERON:0004688', 'fma22706', 'UBERON:0010401', 'fma79658', 'UBERON:0001623', 'UBERON:0001190', 'fma52242', 'UBERON:0001142', 'fma4168', 'UBERON:0009654', 'fma15395', 'UBERON:0015173', 'fma14745', 'fma8631', 'UBERON:0015482', 'UBERON:0035539', 'fma4878', 'fma22800', 'UBERON:0034727', 'fma49480', 'UBERON:0035547', 'fma10663', 'UBERON:0001355', 'UBERON:0001587', 'fma44595', 'fma14342', 'fma4997', 'UBERON:0001185', 'fma20853', 'UBERON:0001330', 'UBERON:0035234', 'UBERON:0002089', 'fma70889', 'fma4173', 'UBERON:0005475', 'fma50560', 'fma8647', 'UBERON:0001399', 'fma14817', 'UBERON:0001539', 'fma4146', 'fma43942', 'fma23120', 'fma50803', 'fma49532', 'fma14743', 'fma14816', 'UBERON:0001397', 'fma19794', 'UBERON:0006666', 'fma8619', 'UBERON:0012318', 'UBERON:0001657', 'fma68194', 'fma50337', 'UBERON:0007156', 'UBERON:0010181', 'UBERON:0001625', 'UBERON:0035435', 'UBERON:0014692', 'UBERON:0001508', 'fma31933', 'fma49621', 'fma22803', 'UBERON:0014694', 'fma4872', 'fma50624', 'fma321526', 'fma49692', 'UBERON:0001620', 'fma14792', 'fma51341', 'fma4738', 'UBERON:0008323', 'UBERON:0001071', 'UBERON:0035273', 'fma14296', 'fma4990', 'fma4429', 'UBERON:0002056', 'fma14903', 'UBERON:0004689', 'UBERON:0001196', 'fma49628', 'UBERON:0035492', 'fma4475', 'UBERON:0001310', 'UBERON:0002080', 'UBERON:0001194', 'UBERON:0011192', 'UBERON:0001312', 'UBERON:0002454', 'fma15394', 'fma14782', 'UBERON:0001591', 'UBERON:0001533', 'fma322905', 'UBERON:0035829', 'UBERON:0006564', 'fma49817', 'UBERON:0007315', 'fma50836', 'fma20840', 'fma4199', 'fma14739', 'fma8640', 'UBERON:0006199', 'fma50910', 'UBERON:0003711', 'UBERON:0006665', 'UBERON:0013133', 'fma43926', 'fma10648', 'UBERON:0001594', 'fma49745', 'UBERON:0001536', 'fma15404', 'UBERON:0003910', 'UBERON:0001311', 'fma0327481', 'fma18832', 'UBERON:0002079', 'UBERON:0006634', 'fma4736', 'UBERON:0005336', 'fma4544', 'fma22752', 'UBERON:0002456', 'fma22911', 'UBERON:0006632', 'UBERON:0001545', 'UBERON:0010249', 'fma21387', 'UBERON:0005436', 'UBERON:0001616', 'UBERON:0001390', 'fma14826', 'UBERON:0004646', 'UBERON:0012324', 'fma4590', 'fma14741', 'fma23119', 'fma14902', 'fma4869', 'UBERON:0001656', 'fma67977', 'fma44033', 'UBERON:0009689', 'UBERON:0018397', 'UBERON:0010400', 'UBERON:0008322', 'UBERON:0015174', 'UBERON:0001544', 'fma18826', 'fma43888', 'UBERON:0035483', 'fma0329300', 'UBERON:0005168', 'UBERON:0002345', 'fma322902', 'fma4740', 'fma8627', 'UBERON:0013142', 'fma70479', 'fma8620', 'UBERON:0006690', 'fma22914', 'fma22824', 'fma14828', 'UBERON:0009885', 'fma52239', 'UBERON:0009688', 'fma49751', 'fma18849', 'UBERON:0001529', 'UBERON:0035042', 'UBERON:0005438', 'UBERON:0001281', 'UBERON:0004561', 'UBERON:0006662', 'fma8644', 'fma4245', 'fma10653', 'UBERON:0013648', 'UBERON:0012319', 'UBERON:0014768', 'fma22755', 'fma51238', 'fma8639', 'fma50629', 'fma70480', 'UBERON:0007317', 'UBERON:0011193', 'fma49599', 'fma0329297', 'UBERON:0035659', 'UBERON:0001362', 'fma14742', 'fma0329298', 'fma50784', 'UBERON:0035532', 'fma18911', 'UBERON:0014690', 'UBERON:0001549', 'fma4337', 'fma49506', 'fma49914', 'fma50858', 'UBERON:0001215', 'fma51965', 'fma70501', 'fma4147', 'UBERON:0001619', 'fma4183', 'fma0323777', 'fma71534', 'UBERON:0035252', 'fma43903', 'UBERON:0001617', 'fma4521', 'fma50631', 'UBERON:0001308'}\n",
      "754\n"
     ]
    }
   ],
   "source": [
    "set_AS = list(df_asctb[\"AS/1/ID\"])+list(df_asctb[\"AS/2/ID\"])+list(df_asctb[\"AS/3/ID\"])+list(df_asctb[\"AS/4/ID\"])+list(df_asctb[\"AS/5/ID\"])+list(df_asctb[\"AS/6/ID\"])+list(df_asctb[\"AS/7/ID\"])+list(df_asctb[\"AS/8/ID\"])+list(df_asctb[\"AS/9/ID\"])+list(df_asctb[\"AS/10/ID\"])+list(df_asctb[\"AS/11/ID\"])+list(df_asctb[\"AS/12/ID\"])+list(df_asctb[\"AS/13/ID\"])+list(df_asctb[\"AS/14/ID\"])+list(df_asctb[\"AS/15/ID\"])+list(df_asctb[\"AS/16/ID\"])+list(df_asctb[\"AS/17/ID\"])+list(df_asctb[\"AS/18/ID\"])+list(df_asctb[\"AS/19/ID\"])\n",
    "set_AS = {x for x in set_AS if x==x}\n",
    "unique_AS = len(set_AS)+1\n",
    "print(set_AS)\n",
    "print(unique_AS)\n"
   ]
  },
  {
   "cell_type": "code",
   "execution_count": 34,
   "metadata": {},
   "outputs": [],
   "source": [
    "match = []\n",
    "for uberon in df_vasculature.UBERON:\n",
    "    for asid in set_AS:\n",
    "        if uberon == asid:\n",
    "            match.append(uberon)\n",
    "    \n",
    "set_match = set(match)    \n",
    "match = len(set_match)"
   ]
  },
  {
   "cell_type": "code",
   "execution_count": 35,
   "metadata": {},
   "outputs": [
    {
     "name": "stdout",
     "output_type": "stream",
     "text": [
      "                                         AS              ID\n",
      "0                               left atrium  UBERON:0002079\n",
      "1                            left ventricle  UBERON:0002084\n",
      "2                     right coronary artery  UBERON:0001625\n",
      "3                              right atrium  UBERON:0002078\n",
      "4                            coronary sinus  UBERON:0005438\n",
      "5                        great cardiac vein  UBERON:0006958\n",
      "6                       middle cardiac vein  UBERON:0009687\n",
      "7                        small cardiac vein  UBERON:0035374\n",
      "8                           right ventricle  UBERON:0002080\n",
      "9                  renal afferent arteriole  UBERON:0004639\n",
      "10                 renal efferent arteriole  UBERON:0004640\n",
      "11                    peritubular capillary  UBERON:0005272\n",
      "12                  inferior thyroid artery  UBERON:0007149\n",
      "13                    inferior thyroid vein  UBERON:0007156\n",
      "14                    left pulmonary artery  UBERON:0001652\n",
      "15                   right pulmonary artery  UBERON:0001651\n",
      "16                           splenic artery  UBERON:0001194\n",
      "17                 spleen trabecular artery  UBERON:0010399\n",
      "18                 spleen central arteriole  UBERON:0010401\n",
      "19                     penicillar arteriole  UBERON:0013132\n",
      "20                             splenic vein  UBERON:0003713\n",
      "21                   spleen trabecular vein  UBERON:0010400\n",
      "22                            thymic artery  UBERON:0018243\n",
      "23                              thymic vein  UBERON:0001591\n",
      "24                              left atrium  UBERON:0002079\n",
      "25                           left ventricle  UBERON:0002084\n",
      "26                                    aorta  UBERON:0000947\n",
      "27                          ascending aorta  UBERON:0001496\n",
      "28                              aortic arch  UBERON:0001508\n",
      "29                   brachiocephalic artery  UBERON:0001529\n",
      "..                                      ...             ...\n",
      "364  superior bulb of internal jugular vein  UBERON:0034981\n",
      "365                   superior thyroid vein  UBERON:0007157\n",
      "366                  internal thoracic vein  UBERON:0001589\n",
      "367               anterior intercostal vein  UBERON:0012200\n",
      "368                     musculophrenic vein  UBERON:0006662\n",
      "369                superior epigastric vein  UBERON:0007155\n",
      "370                pericardiacophrenic vein  UBERON:0001590\n",
      "371                         subclavian vein  UBERON:0001587\n",
      "372                           axillary vein  UBERON:0000985\n",
      "373                            basilic vein  UBERON:0001411\n",
      "374                     median cubital vein  UBERON:0001414\n",
      "375                           brachial vein  UBERON:0001413\n",
      "376              common palmar digital vein  UBERON:0001412\n",
      "377              proper palmar digital vein  UBERON:0004561\n",
      "378                           cephalic vein  UBERON:0001106\n",
      "379                   lateral thoracic vein  UBERON:0002088\n",
      "380                        subscapular vein  UBERON:0001420\n",
      "381                      thoracodorsal vein  UBERON:0002089\n",
      "382                   external jugular vein  UBERON:0001101\n",
      "383                   anterior jugular vein  UBERON:0001104\n",
      "384                posterior auricular vein  UBERON:0006199\n",
      "385                 retromandibular vein #2  UBERON:0001656\n",
      "386         posterior external jugular vein  UBERON:0035249\n",
      "387                          vertebral vein  UBERON:0001588\n",
      "388          left superior intercostal vein  UBERON:0012195\n",
      "389                             thymic vein  UBERON:0001591\n",
      "390                         right ventricle  UBERON:0002080\n",
      "391                         pulmonary trunk  UBERON:0002333\n",
      "392                   left pulmonary artery  UBERON:0001652\n",
      "393                  right pulmonary artery  UBERON:0001651\n",
      "\n",
      "[394 rows x 2 columns]\n"
     ]
    }
   ],
   "source": [
    "for i in df_vasculature.index:\n",
    "    if df_vasculature['UBERON'][i] in set_match:\n",
    "        matching_AS.loc[len(matching_AS.index)] = [df_vasculature['Vessel'][i],df_vasculature['UBERON'][i]] \n",
    "print(matching_AS)"
   ]
  },
  {
   "cell_type": "code",
   "execution_count": 36,
   "metadata": {},
   "outputs": [],
   "source": [
    "matching_AS.to_csv('AS_matching_all.csv')"
   ]
  },
  {
   "cell_type": "code",
   "execution_count": 52,
   "metadata": {},
   "outputs": [],
   "source": [
    "mapping_table.loc[len(mapping_table.index)] = ['Vasculature', unique_AS, match] "
   ]
  },
  {
   "cell_type": "code",
   "execution_count": 53,
   "metadata": {},
   "outputs": [
    {
     "data": {
      "text/html": [
       "<div>\n",
       "<style scoped>\n",
       "    .dataframe tbody tr th:only-of-type {\n",
       "        vertical-align: middle;\n",
       "    }\n",
       "\n",
       "    .dataframe tbody tr th {\n",
       "        vertical-align: top;\n",
       "    }\n",
       "\n",
       "    .dataframe thead th {\n",
       "        text-align: right;\n",
       "    }\n",
       "</style>\n",
       "<table border=\"1\" class=\"dataframe\">\n",
       "  <thead>\n",
       "    <tr style=\"text-align: right;\">\n",
       "      <th></th>\n",
       "      <th>organ</th>\n",
       "      <th>#AS</th>\n",
       "      <th>#AS also present in vasculature table\"</th>\n",
       "    </tr>\n",
       "  </thead>\n",
       "  <tbody>\n",
       "    <tr>\n",
       "      <th>0</th>\n",
       "      <td>Bone Marrow &amp; Blood/Pelvis</td>\n",
       "      <td>3</td>\n",
       "      <td>0</td>\n",
       "    </tr>\n",
       "    <tr>\n",
       "      <th>1</th>\n",
       "      <td>Brain</td>\n",
       "      <td>66</td>\n",
       "      <td>0</td>\n",
       "    </tr>\n",
       "    <tr>\n",
       "      <th>2</th>\n",
       "      <td>Heart</td>\n",
       "      <td>50</td>\n",
       "      <td>9</td>\n",
       "    </tr>\n",
       "    <tr>\n",
       "      <th>3</th>\n",
       "      <td>Intestine, Large</td>\n",
       "      <td>49</td>\n",
       "      <td>0</td>\n",
       "    </tr>\n",
       "    <tr>\n",
       "      <th>4</th>\n",
       "      <td>Kidney</td>\n",
       "      <td>55</td>\n",
       "      <td>3</td>\n",
       "    </tr>\n",
       "    <tr>\n",
       "      <th>5</th>\n",
       "      <td>Lung</td>\n",
       "      <td>140</td>\n",
       "      <td>4</td>\n",
       "    </tr>\n",
       "    <tr>\n",
       "      <th>6</th>\n",
       "      <td>Lymph Node</td>\n",
       "      <td>17</td>\n",
       "      <td>0</td>\n",
       "    </tr>\n",
       "    <tr>\n",
       "      <th>7</th>\n",
       "      <td>Skin</td>\n",
       "      <td>16</td>\n",
       "      <td>0</td>\n",
       "    </tr>\n",
       "    <tr>\n",
       "      <th>8</th>\n",
       "      <td>Spleen</td>\n",
       "      <td>26</td>\n",
       "      <td>6</td>\n",
       "    </tr>\n",
       "    <tr>\n",
       "      <th>9</th>\n",
       "      <td>Thymus</td>\n",
       "      <td>16</td>\n",
       "      <td>2</td>\n",
       "    </tr>\n",
       "    <tr>\n",
       "      <th>10</th>\n",
       "      <td>Vasculature</td>\n",
       "      <td>754</td>\n",
       "      <td>362</td>\n",
       "    </tr>\n",
       "  </tbody>\n",
       "</table>\n",
       "</div>"
      ],
      "text/plain": [
       "                         organ  #AS #AS also present in vasculature table\"\n",
       "0   Bone Marrow & Blood/Pelvis    3                                      0\n",
       "1                        Brain   66                                      0\n",
       "2                        Heart   50                                      9\n",
       "3             Intestine, Large   49                                      0\n",
       "4                       Kidney   55                                      3\n",
       "5                         Lung  140                                      4\n",
       "6                   Lymph Node   17                                      0\n",
       "7                         Skin   16                                      0\n",
       "8                       Spleen   26                                      6\n",
       "9                       Thymus   16                                      2\n",
       "10                 Vasculature  754                                    362"
      ]
     },
     "execution_count": 53,
     "metadata": {},
     "output_type": "execute_result"
    }
   ],
   "source": [
    "mapping_table"
   ]
  },
  {
   "cell_type": "code",
   "execution_count": 54,
   "metadata": {},
   "outputs": [
    {
     "name": "stdout",
     "output_type": "stream",
     "text": [
      "385\n",
      "{'descending branch of lateral femoral circumflex artery', 'inferior gluteal vein', 'anterior inferior pancreaticoduodenal vein', 'superior segmental artery of left lung', 'superior petrosal sinus', 'posterior ulnar recurrent artery', 'right posterior intercostal vein 10', 'recurrent meningeal artery', 'left ovarian vein', 'posterior spinal vein', 'superior laryngeal vein', 'left posterior intercostal vein 3', 'medial inferior genicular artery', 'right lumbar artery 4', 'right posterior intercostal artery 5', 'prostatic artery', 'anterior vertebral vein', 'subsegmental pulmonary artery', 'segmental renal artery', 'vestibulocochlear artery', 'anterior deep temporal artery', 'posterior scrotal vein', 'anterior intercostal artery 4', 'occipital sinus', 'acetabular branch of obturator artery', 'anterior superior pancreaticoduodenal artery', 'left posterior intercostal artery 9', 'anterior cecal artery', 'suprascapular artery', 'left colic vein', 'inferior laryngeal artery', 'right posterior intercostal artery 8', 'perforating branch of internal thoracic artery', 'superior gluteal vein', 'left colic artery', 'princeps pollicis artery', 'anterior segmental artery of right lung', 'left posterior intercostal vein 7', 'frontopolar artery', 'posterior descending artery', 'left common iliac vein', 'lateral basal segmental artery of left lung', 'lateral femoral circumflex vein', 'lumbar veins', 'transverse cervical vein', 'anterior intercostal artery 6', 'lateral basal segmental artery of right lung', 'saphenous branch of descending genicular artery', 'tracheal branches of inferior thyroid artery', 'anterior branch of obturator artery', 'deep superior gluteal artery', 'anterior intercostal artery 2', 'left circumflex artery', 'inferior laryngeal vein', 'thyrocervical trunk', 'lesser palatine artery', 'calcaneal branch of fibular artery', 'left posterior intercostal artery 10', 'anterior intercostal artery 3', 'Rolandic artery', 'inferior tympanic artery', 'infrahyoid artery', 'dorsal venous network of hand', 'superficial femoral artery', 'paramedian artery', 'anterior intercostal artery 9', 'inferior lingular segmental artery of left lung', 'cystic artery', 'basal segmental arterial trunk of left lung', 'submental artery', 'left lumbar artery 5', 'right first superior phrenic artery', 'posterior segmental renal artery', 'intervertebral vein #3', 'vaginal artery', 'atrioventicular nodal artery', 'perforating artery', 'occipital branch of posterior auricular artery', 'superficial palmar branch of radial artery', 'anterior intercostal vein 2', 'ethmoidal vein', 'right lumbar artery 1', 'anterior intercostal artery 8', 'right interlobar pulmonary artery', 'dorsal digital vein of hand', 'lateral sacral artery', 'suboccipital venous plexus', 'lateral segmental artery of right lung', 'right posterior intercostal artery 3', 'posterior labial artery', 'superior left bronchial artery', 'supratrochlear vein', 'stellate vein of kidney', 'left first superior phrenic artery', 'stylomastoid artery', 'anterior ciliary vein', 'lumbar branch of iliolumbar artery', 'right posterior intercostal vein 7', 'anterior superior segmental renal artery', 'medial mammary branch of perforating branch of internal thoracic artery', 'apical segmental artery of right lung', 'dorsal scapular artery', 'superior segmental renal artery', 'deep plantar artery', 'right posterior intercostal artery 4', 'uterine vein', 'jugular venous arch #2', 'left anterior descending artery', 'anterior superior alveolar artery', 'inferior left bronchial artery', 'lateral plantar artery', 'anterior intercostal vein 3', 'right posterior intercostal vein 6', 'ascending branch of medial circumflex femoral artery', 'radial vein', 'right common iliac vein', 'right inferior pulmonary vein', 'middle genicular artery', 'lateral femoral circumflex artery', 'esophageal vein', 'straight sinus', 'accessory meningeal artery', 'left marginal vein', 'plantar venous arch #2', 'anterior inferior segmental renal artery', 'superior thalamostriate vein', 'apicoposterior segmental artery of left lung', 'intervertebral vein #2', 'anterior intercostal vein 1', 'right ovarian vein', 'pubic branch of inferior epigastric artery', 'frontal branch of superficial temporal artery', 'right lumbar artery 2', 'sublingual vein', 'muscular branch of occipital artery', 'left posterior intercostal artery 11', 'deep palmar branch of ulnar artery', 'dorsal lingual vein', 'inferior rectal vein', 'right posterior intercostal vein 8', 'superior choroid vein', 'medial occipital artery', 'left inferior phrenic artery', 'diagonal branch of left anterior descending artery 1', 'right inferior phrenic artery', 'posterior deep temporal artery', 'anterior segmental hepatic artery', 'middle hemorrhoidal vein', 'dorsal digital artery of foot #3', 'fourth dorsal metatarsal artery', 'deep artery of penis', 'dorsal lingual artery', 'left second superior phrenic artery', 'superior anastomotic vein', 'occipital vein', 'superior laryngeal artery', 'right bronchial artery', 'basivertebral vein', 'recurrent artery of Heubner', 'dorsal carpal branch of ulnar artery', 'left posterior intercostal artery 3', 'meningeal branch of occipital artery', 'medial collateral artery', 'auricular branch of posterior auricular artery', 'left posterior intercostal artery 8', 'anterior intercostal vein 5', 'right marginal artery', 'superficial superior gluteal artery', 'posterior internal vertebral venous plexus', 'inferior anastomotic vein', 'left superior pulmonary vein', 'anterior medial malleolar artery', 'middle rectal artery #2', 'superior ulnar collateral artery', 'left gastroepiploic vein', 'pharyngeal branch of maxillary artery', 'right posterior intercostal vein 9', 'right second superior phrenic artery', 'left posterior intercostal vein 5', 'left interlobar pulmonary artery', 'auricular branch of occipital artery', 'dorsal venous arch of foot #3', 'right middle suprarenal artery', 'third dorsal metatarsal artery', 'lateral mesencephalic vein', 'common interosseous artery', 'anterior intercostal artery', 'posterior intercostal artery 2', 'supreme intercostal vein', 'middle rectal artery', 'posterior tympanic artery', 'anterior intercostal artery 1', 'anterior superior pancreaticoduodenal vein', 'thalamogeniculate artery', 'cricothyroid artery', 'deep palmar venous arch', 'descending branch of occipital artery', 'dorsal venous arch of foot', 'ascending pharyngeal artery', 'ascending branch of lateral femoral circumflex artery', 'anterior intercostal vein 7', 'right posterior intercostal vein 11', 'sinoatrial nodal artery', 'percardiacophrenic artery', 'right bronchial vein', 'posterior basal segmental artery of right lung', 'deep cervical vein', 'left bronchial vein', 'medial superior genicular artery', 'pre-Rolandic artery', 'left lumbar artery 4', 'second dorsal metatarsal artery', 'suprascapular vein', 'right brachiocephalic vein', 'left posterior intercostal vein 10', 'left middle suprarenal artery', 'posterior segmental hepatic artery', 'descending branch of medial circumflex femoral artery', 'medial basal segmental artery of right lung', 'segmental pulmonary artery', 'left posterior intercostal artery 7', 'left posterior intercostal vein 11', 'lateral posterior choroidal artery', 'artery of pterygoid canal', 'posterior external vertebral venous plexus #3', 'left subcostal artery', 'sigmoid vein', 'radial recurrent artery', 'anterior internal vertebral venous plexus', 'superficial iliac circumflex vein', 'jejunal branches', 'retroduodenal artery', 'articular branch of descending genicular artery', 'lateral nasal artery', 'right posterior intercostal vein 2', 'superior segmental artery of right lung', 'jugular venous arch', 'ulnar vein', 'artery of round ligament of uterus', 'prefrontal artery', 'diagonal branch of left anterior descending artery', 'parotid branch of posterior auricular artery', 'superior rectal vein', 'right posterior intercostal vein 5', 'descending palatine artery', 'obtuse marginal artery 1', 'right posterior intercostal artery 9', 'lateral tarsal artery', 'pterygoid branches of maxillary artery', 'left posterior intercostal artery 5', 'inferior gluteal artery', 'pubic vein', 'right gastroepiploic vein', 'anterior external vertebral venous plexus', 'lateral frontobasal artery', 'superficial palmar venous arch', 'lateral inferior genicular artery', 'medial basal segmental artery of left lung', 'dorsal venous arch of foot #2', 'left lumbar artery 1', 'anterior intercostal artery 7', 'anterior segmental artery of left lung', 'accessory vertebral vein', 'anterior external vertebral venous plexus #2', 'right lumbar artery 5', 'obtuse marginal artery 2', 'lateral superior genicular artery', 'anterior ciliary artery', 'left posterior intercostal vein 4', 'anterior humeral circumflex artery', 'right colic artery', 'long posterior ciliary arteries', 'perforating branch of fibular artery', 'vidian artery', 'radial collateral artery', 'confluence of sinuses', 'descending genicular artery', 'transverse perineal artery', 'esophageal vein #2', 'diagonal branch of left anterior descending artery 2', 'sternocleidomastoid branch of superior thyroid artery', 'dorsal carpal branch of radial artery', 'posterior superior pancreaticoduodenal vein', 'anterior auricular branch of superficial temporal artery', 'sphenopalatine artery', 'plantar arch', 'pharyngeal branches of inferior thyroid artery', 'anterior spinal vein', 'circumflex fibular artery', 'inferior ulnar collateral artery', 'vesical plexus', 'median antebrachial vein', 'superior petrosal vein', 'truncus anterior of right pulmonary artery', 'glandular branches of facial artery', 'posterior cecal artery', 'dorsal metacarpal vein', 'right ovarian artery', 'sternocleidomastoid artery', 'callosomarginal artery', 'posterior intercostal artery 1', 'pontine artery', 'dorsal venous network of hand #2', 'medial posterior choroidal artery', 'iliac branch of iliolumbar artery', 'ascending palatine artery', 'right posterior intercostal artery 11', 'left posterior intercostal artery 6', 'posterior intercostal artery', 'posterior segmental artery of right lung', 'deep lingual vein', 'plantar venous arch', 'posterior superior pancreaticoduodenal artery', 'anterior intercostal vein 4', 'anterior ulnar recurrent artery', 'anterior tympanic artery', 'anterior intercostal vein 6', 'right colic vein', 'left inferior phrenic vein', 'marginal artery of Drummond', 'anterior basal segmental artery of right lung', 'inferior segmental renal artery', 'right inferior phrenic vein', 'supraduodenal artery', 'thoracoacromial vein', 'anterior tibial recurrent artery', 'dorsal digital artery of foot', 'anterior basal segmental artery of left lung', 'posterior humeral circumflex artery', 'left lumbar artery 2', 'right posterior intercostal vein 4', 'pericallosal artery', 'circumflex scapular artery', 'right posterior intercostal artery 7', 'right posterior intercostal vein 3', 'right posterior intercostal artery 10', 'deep branch of transverse cervical artery', 'anterior intercostal vein 9', 'pericardial artery', 'anterior intercostal vein 8', 'tonsillar branch of facial artery', 'mastoid branch of occipital artery', 'appendicular artery', 'posterior basal segmental artery of left lung', 'tibial-peroneal trunk', 'left lumbar artery 3', 'posterior inferior pancreaticoduodenal vein', 'first dorsal metatarsal artery', 'external nasal vein', 'medial segmental artery of right lung', 'posterior external vertebral venous plexus', 'peroneal vein', 'posterior scrotal artery', 'right lumbar artery 3', 'right superior pulmonary vein', 'left posterior intercostal vein 8', 'right posterior intercostal artery 6', 'left posterior intercostal vein 6', 'short posterior ciliary arteries', 'anterior lateral malleolar artery', 'thalamoperforating artery', 'posterior tibial recurrent artery', 'dorsal digital artery of foot #4', 'palmar carpal branch of ulnar artery', 'left ovarian artery', 'anterior intercostal artery 5', 'cavernous segment', 'dorsal digital artery of foot #2', 'anterior external vertebral venous plexus #3', 'left posterior intercostal vein 9', 'left posterior intercostal artery 4', 'basal segmental arterial trunk of right lung', 'conus artery', 'prepyloric vein', 'left inferior pulmonary vein', 'left brachiocephalic vein', 'left posterior intercostal vein 2', 'intervertebral vein', 'superior lingular segmental artery of left lung', 'deep lingual artery', 'posterior external vertebral venous plexus #2', 'lateral sacral vein', 'palmar carpal branch of radial artery', 'right subcostal artery', 'communicating branch of fibular artery'}\n"
     ]
    }
   ],
   "source": [
    "df_reporter = pd.read_excel (r'ASCT+B-Reporter_vasculature_2021.07.27_05.26_Report.xlsx')\n",
    "no_uberon = list(df_reporter['AS with no Uberon Link'])\n",
    "wrong_cat = []\n",
    "for i in range(0,len(df_asctb)):\n",
    "    if type(df_asctb['AS/1'][i]) != float:        \n",
    "        if type(df_asctb['AS/1/ID'][i]) != float:\n",
    "            if df_asctb['AS/1'][i] in no_uberon:\n",
    "                wrong_cat.append(df_asctb['AS/1'][i])\n",
    "    if type(df_asctb['AS/2'][i]) != float:\n",
    "        if type(df_asctb['AS/2/ID'][i]) != float:\n",
    "            if df_asctb['AS/2'][i] in no_uberon:\n",
    "                wrong_cat.append(df_asctb['AS/2'][i])\n",
    "    if type(df_asctb['AS/3'][i]) != float:\n",
    "        if type(df_asctb['AS/3/ID'][i]) != float:\n",
    "            if df_asctb['AS/3'][i] in no_uberon:\n",
    "                wrong_cat.append(df_asctb['AS/3'][i])\n",
    "    if type(df_asctb['AS/4'][i]) != float:\n",
    "        if type(df_asctb['AS/4/ID'][i]) != float:\n",
    "            if df_asctb['AS/4'][i] in no_uberon:\n",
    "                wrong_cat.append(df_asctb['AS/4'][i])\n",
    "    if type(df_asctb['AS/5'][i]) != float:\n",
    "        if type(df_asctb['AS/5/ID'][i]) != float:\n",
    "            if df_asctb['AS/5'][i] in no_uberon:\n",
    "                wrong_cat.append(df_asctb['AS/5'][i])\n",
    "    if type(df_asctb['AS/6'][i]) != float:\n",
    "        if type(df_asctb['AS/6/ID'][i]) != float:\n",
    "            if df_asctb['AS/6'][i] in no_uberon:\n",
    "                wrong_cat.append(df_asctb['AS/6'][i])\n",
    "    if type(df_asctb['AS/7'][i]) != float:\n",
    "        if type(df_asctb['AS/7/ID'][i]) != float:\n",
    "            if df_asctb['AS/7'][i] in no_uberon:\n",
    "                wrong_cat.append(df_asctb['AS/7'][i])\n",
    "    if type(df_asctb['AS/8'][i]) != float:\n",
    "        if type(df_asctb['AS/8/ID'][i]) != float:\n",
    "            if df_asctb['AS/8'][i] in no_uberon:\n",
    "                wrong_cat.append(df_asctb['AS/8'][i])\n",
    "    if type(df_asctb['AS/9'][i]) != float:\n",
    "        if type(df_asctb['AS/9/ID'][i]) != float:\n",
    "            if df_asctb['AS/9'][i] in no_uberon:\n",
    "                wrong_cat.append(df_asctb['AS/9'][i])\n",
    "    if type(df_asctb['AS/10'][i]) != float:\n",
    "        if type(df_asctb['AS/10/ID'][i]) != float:\n",
    "            if df_asctb['AS/10'][i] in no_uberon:\n",
    "                wrong_cat.append(df_asctb['AS/10'][i])\n",
    "    if type(df_asctb['AS/11'][i]) != float:\n",
    "        if type(df_asctb['AS/11/ID'][i]) != float:\n",
    "            if df_asctb['AS/1'][i] in no_uberon:\n",
    "                wrong_cat.append(df_asctb['AS/11'][i])\n",
    "    if type(df_asctb['AS/12'][i]) != float:\n",
    "        if type(df_asctb['AS/12/ID'][i]) != float:\n",
    "            if df_asctb['AS/12'][i] in no_uberon:\n",
    "                wrong_cat.append(df_asctb['AS/12'][i])\n",
    "    if type(df_asctb['AS/13'][i]) != float:\n",
    "        if type(df_asctb['AS/13/ID'][i]) != float:\n",
    "            if df_asctb['AS/13'][i] in no_uberon:\n",
    "                wrong_cat.append(df_asctb['AS/13'][i])\n",
    "    if type(df_asctb['AS/14'][i]) != float:\n",
    "        if type(df_asctb['AS/14/ID'][i]) != float:\n",
    "            if df_asctb['AS/14'][i] in no_uberon:\n",
    "                wrong_cat.append(df_asctb['AS/14'][i])\n",
    "    if type(df_asctb['AS/15'][i]) != float:\n",
    "        if type(df_asctb['AS/15/ID'][i]) != float:\n",
    "            if df_asctb['AS/15'][i] in no_uberon:\n",
    "                wrong_cat.append(df_asctb['AS/15'][i])\n",
    "    if type(df_asctb['AS/16'][i]) != float:\n",
    "        if type(df_asctb['AS/16/ID'][i]) != float:\n",
    "            if df_asctb['AS/16'][i] in no_uberon:\n",
    "                wrong_cat.append(df_asctb['AS/16'][i])\n",
    "    if type(df_asctb['AS/17'][i]) != float:\n",
    "        if type(df_asctb['AS/17/ID'][i]) != float:\n",
    "            if df_asctb['AS/17'][i] in no_uberon:\n",
    "                wrong_cat.append(df_asctb['AS/17'][i])\n",
    "    if type(df_asctb['AS/18'][i]) != float:\n",
    "        if type(df_asctb['AS/18/ID'][i]) != float:\n",
    "            if df_asctb['AS/18'][i] in no_uberon:\n",
    "                wrong_cat.append(df_asctb['AS/18'][i])\n",
    "    if type(df_asctb['AS/19'][i]) != float:\n",
    "        if type(df_asctb['AS/19/ID'][i]) != float:\n",
    "            if df_asctb['AS/19'][i] in no_uberon:\n",
    "                wrong_cat.append(df_asctb['AS/19'][i])\n",
    "    \n",
    "print(len(set(wrong_cat)))\n",
    "print(set(wrong_cat))\n",
    "        "
   ]
  }
 ],
 "metadata": {
  "kernelspec": {
   "display_name": "Python 3",
   "language": "python",
   "name": "python3"
  },
  "language_info": {
   "codemirror_mode": {
    "name": "ipython",
    "version": 3
   },
   "file_extension": ".py",
   "mimetype": "text/x-python",
   "name": "python",
   "nbconvert_exporter": "python",
   "pygments_lexer": "ipython3",
   "version": "3.7.3"
  }
 },
 "nbformat": 4,
 "nbformat_minor": 2
}
